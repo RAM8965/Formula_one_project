{
 "cells": [
  {
   "cell_type": "markdown",
   "metadata": {
    "application/vnd.databricks.v1+cell": {
     "cellMetadata": {},
     "inputWidgets": {},
     "nuid": "c9feba86-709f-47d2-af4a-4bf9f12485c9",
     "showTitle": false,
     "tableResultSettingsMap": {},
     "title": ""
    }
   },
   "source": [
    "### Mounting using OAuth with Gen2 storage account and bronze container"
   ]
  },
  {
   "cell_type": "markdown",
   "metadata": {
    "application/vnd.databricks.v1+cell": {
     "cellMetadata": {},
     "inputWidgets": {},
     "nuid": "aaa4444f-84ba-4547-924e-e5bdf5838a8e",
     "showTitle": false,
     "tableResultSettingsMap": {},
     "title": ""
    }
   },
   "source": [
    "### Following the Medallion Architecture"
   ]
  },
  {
   "cell_type": "code",
   "execution_count": 0,
   "metadata": {
    "application/vnd.databricks.v1+cell": {
     "cellMetadata": {
      "byteLimit": 2048000,
      "rowLimit": 10000
     },
     "inputWidgets": {},
     "nuid": "159e8cf3-c6e7-4d33-8280-60d2c8b73971",
     "showTitle": false,
     "tableResultSettingsMap": {},
     "title": ""
    }
   },
   "outputs": [],
   "source": [
    "configs = {\n",
    "    \"fs.azure.account.auth.type\": \"OAuth\",\n",
    "    \"fs.azure.account.oauth.provider.type\": \"org.apache.hadoop.fs.azurebfs.oauth2.ClientCredsTokenProvider\",\n",
    "    \"fs.azure.account.oauth2.client.id\": dbutils.secrets.get(scope=\"f1-kv\", key=\"client-id\"),\n",
    "    \"fs.azure.account.oauth2.client.secret\": dbutils.secrets.get(scope=\"f1-kv\", key=\"secret-id\"),\n",
    "    \"fs.azure.account.oauth2.client.endpoint\": f\"https://login.microsoftonline.com/{dbutils.secrets.get(scope=\"f1-kv\", key=\"tenant-id\")}/oauth2/token\"\n",
    "}\n",
    "\n",
    "dbutils.fs.mount(\n",
    "  source = \"abfss://bronze@formula1strorage.dfs.core.windows.net/\",\n",
    "  mount_point = \"/mnt/mybronze\",\n",
    "  extra_configs = configs)\n"
   ]
  },
  {
   "cell_type": "code",
   "execution_count": 0,
   "metadata": {
    "application/vnd.databricks.v1+cell": {
     "cellMetadata": {
      "byteLimit": 2048000,
      "rowLimit": 10000
     },
     "inputWidgets": {},
     "nuid": "98c5db21-47de-4b09-87d9-17b3fc963ccf",
     "showTitle": false,
     "tableResultSettingsMap": {},
     "title": ""
    }
   },
   "outputs": [],
   "source": [
    "print(dbutils.secrets.get(scope=\"f1-kv\", key=\"client-id\"))"
   ]
  },
  {
   "cell_type": "markdown",
   "metadata": {
    "application/vnd.databricks.v1+cell": {
     "cellMetadata": {},
     "inputWidgets": {},
     "nuid": "76f398d4-bed3-4143-a4b6-978237b20ae5",
     "showTitle": false,
     "tableResultSettingsMap": {},
     "title": ""
    }
   },
   "source": [
    "### Mounting silver container"
   ]
  },
  {
   "cell_type": "code",
   "execution_count": 0,
   "metadata": {
    "application/vnd.databricks.v1+cell": {
     "cellMetadata": {
      "byteLimit": 2048000,
      "rowLimit": 10000
     },
     "inputWidgets": {},
     "nuid": "760df22c-9551-4e40-a2e7-18960c1e2da7",
     "showTitle": false,
     "tableResultSettingsMap": {},
     "title": ""
    }
   },
   "outputs": [],
   "source": [
    "dbutils.fs.mount(\n",
    "  source = \"abfss://silver@formula1strorage.dfs.core.windows.net/\",\n",
    "  mount_point = \"/mnt/mysilver\",\n",
    "  extra_configs = configs)"
   ]
  },
  {
   "cell_type": "markdown",
   "metadata": {
    "application/vnd.databricks.v1+cell": {
     "cellMetadata": {},
     "inputWidgets": {},
     "nuid": "1d8a49e9-5572-43b8-9065-d3187734b6a8",
     "showTitle": false,
     "tableResultSettingsMap": {},
     "title": ""
    }
   },
   "source": [
    "### Mounting gold container"
   ]
  },
  {
   "cell_type": "code",
   "execution_count": 0,
   "metadata": {
    "application/vnd.databricks.v1+cell": {
     "cellMetadata": {
      "byteLimit": 2048000,
      "rowLimit": 10000
     },
     "inputWidgets": {},
     "nuid": "716a0b50-e8fe-41ed-8e81-553d6ccdc35f",
     "showTitle": false,
     "tableResultSettingsMap": {},
     "title": ""
    }
   },
   "outputs": [],
   "source": [
    "dbutils.fs.mount(\n",
    "  source = \"abfss://gold@formula1strorage.dfs.core.windows.net/\",\n",
    "  mount_point = \"/mnt/mygold\",\n",
    "  extra_configs = configs)"
   ]
  },
  {
   "cell_type": "code",
   "execution_count": 0,
   "metadata": {
    "application/vnd.databricks.v1+cell": {
     "cellMetadata": {
      "byteLimit": 2048000,
      "rowLimit": 10000
     },
     "inputWidgets": {},
     "nuid": "c928c53a-f6f0-49e7-a804-349e7302bb44",
     "showTitle": false,
     "tableResultSettingsMap": {},
     "title": ""
    }
   },
   "outputs": [],
   "source": [
    "display(dbutils.fs.mounts())"
   ]
  },
  {
   "cell_type": "markdown",
   "metadata": {
    "application/vnd.databricks.v1+cell": {
     "cellMetadata": {},
     "inputWidgets": {},
     "nuid": "d933baf2-07b6-4bc1-a9ef-fca1fa73d861",
     "showTitle": false,
     "tableResultSettingsMap": {},
     "title": ""
    }
   },
   "source": [
    "### Reading my_master_data.csv form mybronze mount point"
   ]
  },
  {
   "cell_type": "code",
   "execution_count": 0,
   "metadata": {
    "application/vnd.databricks.v1+cell": {
     "cellMetadata": {
      "byteLimit": 2048000,
      "rowLimit": 10000
     },
     "inputWidgets": {},
     "nuid": "868e94d6-0582-4085-b789-02f7f24a12d4",
     "showTitle": false,
     "tableResultSettingsMap": {},
     "title": ""
    }
   },
   "outputs": [],
   "source": [
    "# Read CSV file from mounted storage\n",
    "df = spark.read.csv(\"/mnt/mybronze/my_raw_data/my_master_data.csv\", header=True)\n",
    "\n",
    "# List files in the mount\n",
    "df.show()\n",
    "df.printSchema()\n"
   ]
  },
  {
   "cell_type": "markdown",
   "metadata": {
    "application/vnd.databricks.v1+cell": {
     "cellMetadata": {},
     "inputWidgets": {},
     "nuid": "ce66f809-8817-4c78-b6ad-a0f2440788a8",
     "showTitle": false,
     "tableResultSettingsMap": {},
     "title": ""
    }
   },
   "source": [
    "###  lists all files and folders in the directory path /mnt/mybronze/my_raw_data."
   ]
  },
  {
   "cell_type": "code",
   "execution_count": 0,
   "metadata": {
    "application/vnd.databricks.v1+cell": {
     "cellMetadata": {
      "byteLimit": 2048000,
      "rowLimit": 10000
     },
     "inputWidgets": {},
     "nuid": "27e3115d-ef95-4d28-bba6-998ab9bf72c0",
     "showTitle": false,
     "tableResultSettingsMap": {},
     "title": ""
    }
   },
   "outputs": [],
   "source": [
    "display(dbutils.fs.ls(\"/mnt/mybronze/my_raw_data\"))\n",
    "\n"
   ]
  },
  {
   "cell_type": "code",
   "execution_count": 0,
   "metadata": {
    "application/vnd.databricks.v1+cell": {
     "cellMetadata": {
      "byteLimit": 2048000,
      "rowLimit": 10000
     },
     "inputWidgets": {},
     "nuid": "d2a3fee6-3794-4aa2-a752-d6645b246da6",
     "showTitle": false,
     "tableResultSettingsMap": {},
     "title": ""
    }
   },
   "outputs": [],
   "source": [
    "dbutils.fs.ls(\"/mnt/mybronze\")\n"
   ]
  },
  {
   "cell_type": "code",
   "execution_count": 0,
   "metadata": {
    "application/vnd.databricks.v1+cell": {
     "cellMetadata": {
      "byteLimit": 2048000,
      "rowLimit": 10000
     },
     "inputWidgets": {},
     "nuid": "1942be7e-5a39-4b88-b4f2-0754e9bddc5b",
     "showTitle": false,
     "tableResultSettingsMap": {},
     "title": ""
    }
   },
   "outputs": [],
   "source": [
    "df = df.drop(\"dateOfBirth\", \"_c0\")\n",
    "display(df)\n"
   ]
  },
  {
   "cell_type": "markdown",
   "metadata": {
    "application/vnd.databricks.v1+cell": {
     "cellMetadata": {},
     "inputWidgets": {},
     "nuid": "256c4117-a18e-4f3b-a04b-a7c64c855e90",
     "showTitle": false,
     "tableResultSettingsMap": {},
     "title": ""
    }
   },
   "source": [
    "### Reading the all null values present in the dataset"
   ]
  },
  {
   "cell_type": "code",
   "execution_count": 0,
   "metadata": {
    "application/vnd.databricks.v1+cell": {
     "cellMetadata": {
      "byteLimit": 2048000,
      "rowLimit": 10000
     },
     "inputWidgets": {},
     "nuid": "bad936d6-50f6-4567-8d23-80981b30bbca",
     "showTitle": false,
     "tableResultSettingsMap": {},
     "title": ""
    }
   },
   "outputs": [],
   "source": [
    "from pyspark.sql.functions import col, sum, when  # ← Import 'when' properly\n",
    "\n",
    "# Count nulls in each column\n",
    "null_counts = df.select([\n",
    "    sum(when(col(c).isNull(), 1).otherwise(0)).alias(c)\n",
    "    for c in df.columns\n",
    "])\n",
    "\n",
    "null_counts.show()\n"
   ]
  },
  {
   "cell_type": "markdown",
   "metadata": {
    "application/vnd.databricks.v1+cell": {
     "cellMetadata": {},
     "inputWidgets": {},
     "nuid": "27f3abfa-e017-49f9-b9e1-aa205553f52d",
     "showTitle": false,
     "tableResultSettingsMap": {},
     "title": ""
    }
   },
   "source": [
    "### Droping the null values from the dataset"
   ]
  },
  {
   "cell_type": "code",
   "execution_count": 0,
   "metadata": {
    "application/vnd.databricks.v1+cell": {
     "cellMetadata": {
      "byteLimit": 2048000,
      "rowLimit": 10000
     },
     "inputWidgets": {},
     "nuid": "3aa07a0e-cc7b-445b-96ed-825359e1c5ac",
     "showTitle": false,
     "tableResultSettingsMap": {},
     "title": ""
    }
   },
   "outputs": [],
   "source": [
    "# Remove rows that contain any null value\n",
    "df_cleaned = df.na.drop()\n",
    "\n",
    "# Show the cleaned DataFrame\n",
    "df_cleaned.show()\n"
   ]
  },
  {
   "cell_type": "markdown",
   "metadata": {
    "application/vnd.databricks.v1+cell": {
     "cellMetadata": {},
     "inputWidgets": {},
     "nuid": "2514ec9a-0ba9-405d-89de-5124ae6911aa",
     "showTitle": false,
     "tableResultSettingsMap": {},
     "title": ""
    }
   },
   "source": [
    "### Counting null values in each column"
   ]
  },
  {
   "cell_type": "code",
   "execution_count": 0,
   "metadata": {
    "application/vnd.databricks.v1+cell": {
     "cellMetadata": {
      "byteLimit": 2048000,
      "rowLimit": 10000
     },
     "inputWidgets": {},
     "nuid": "df80e37a-836d-45e8-afdd-90a90425aec5",
     "showTitle": false,
     "tableResultSettingsMap": {},
     "title": ""
    }
   },
   "outputs": [],
   "source": [
    "from pyspark.sql.functions import col, sum, when  # ← Import 'when' properly\n",
    "\n",
    "# Count nulls in each column\n",
    "null_counts = df.select([\n",
    "    sum(when(col(c).isNull(), 1).otherwise(0)).alias(c)\n",
    "    for c in df.columns\n",
    "])\n",
    "\n",
    "null_counts.show()\n"
   ]
  },
  {
   "cell_type": "code",
   "execution_count": 0,
   "metadata": {
    "application/vnd.databricks.v1+cell": {
     "cellMetadata": {
      "byteLimit": 2048000,
      "rowLimit": 10000
     },
     "inputWidgets": {},
     "nuid": "efd4258f-10be-4d6a-98c7-b8dc1b57b721",
     "showTitle": false,
     "tableResultSettingsMap": {},
     "title": ""
    }
   },
   "outputs": [],
   "source": [
    "from pyspark.sql.functions import col, sum, when\n",
    "\n",
    "# Count nulls in each column\n",
    "df.select([sum(when(col(c).isNull(), 1).otherwise(0)).alias(c) for c in df.columns]).show()\n"
   ]
  },
  {
   "cell_type": "markdown",
   "metadata": {
    "application/vnd.databricks.v1+cell": {
     "cellMetadata": {},
     "inputWidgets": {},
     "nuid": "3548739d-d2df-4076-9086-1ae1cc6932dc",
     "showTitle": false,
     "tableResultSettingsMap": {},
     "title": ""
    }
   },
   "source": [
    "### Droping some null values to clean the dataset"
   ]
  },
  {
   "cell_type": "code",
   "execution_count": 0,
   "metadata": {
    "application/vnd.databricks.v1+cell": {
     "cellMetadata": {
      "byteLimit": 2048000,
      "rowLimit": 10000
     },
     "inputWidgets": {},
     "nuid": "9fd1be00-2a1b-4d48-81cb-893be2a953a0",
     "showTitle": false,
     "tableResultSettingsMap": {},
     "title": ""
    }
   },
   "outputs": [],
   "source": [
    "# Drop rows that contain ANY null values\n",
    "df_cleaned = df.na.drop()\n",
    "\n",
    "# Check if nulls are removed\n",
    "df_cleaned.select([sum(when(col(c).isNull(), 1).otherwise(0)).alias(c) for c in df_cleaned.columns]).show()\n"
   ]
  },
  {
   "cell_type": "code",
   "execution_count": 0,
   "metadata": {
    "application/vnd.databricks.v1+cell": {
     "cellMetadata": {
      "byteLimit": 2048000,
      "rowLimit": 10000
     },
     "inputWidgets": {},
     "nuid": "15439b4b-9021-4ae2-9184-dc4d608c2371",
     "showTitle": false,
     "tableResultSettingsMap": {},
     "title": ""
    }
   },
   "outputs": [],
   "source": [
    "df_cleaned.show()"
   ]
  },
  {
   "cell_type": "markdown",
   "metadata": {
    "application/vnd.databricks.v1+cell": {
     "cellMetadata": {},
     "inputWidgets": {},
     "nuid": "1d44216b-1745-4b2b-b50e-4e2e5c69ce73",
     "showTitle": false,
     "tableResultSettingsMap": {},
     "title": ""
    }
   },
   "source": [
    "### Renaming Column name"
   ]
  },
  {
   "cell_type": "code",
   "execution_count": 0,
   "metadata": {
    "application/vnd.databricks.v1+cell": {
     "cellMetadata": {
      "byteLimit": 2048000,
      "rowLimit": 10000
     },
     "inputWidgets": {},
     "nuid": "44806c6d-5c0f-4214-9e52-f86f800f5a00",
     "showTitle": false,
     "tableResultSettingsMap": {},
     "title": ""
    }
   },
   "outputs": [],
   "source": [
    "df_cleaned = df_cleaned.withColumnRenamed(\"name\", \"driver_name\") \\\n",
    "    .withColumnRenamed(\"circuitId\", \"circuit_ID\") \\\n",
    "    .withColumnRenamed(\"driverId\", \"driver_ID\") \\\n",
    "    .withColumnRenamed(\"circuitName\", \"circuit_name\") \\\n",
    "    .withColumnRenamed(\"type\", \"track_type\") \\\n",
    "    .withColumnRenamed(\"q_worst\", \"qualify_Worst_Time\") \\\n",
    "    .withColumnRenamed(\"q_best\", \"qualify_Best_Time\") \\\n",
    "    .withColumnRenamed(\"q_mean\", \"qualify_Average_Time\") \\\n",
    "    .withColumnRenamed(\"qual_position\", \"qualify_Position\")\n",
    "\n",
    "df = df_cleaned\n",
    "df.show()\n",
    "\n"
   ]
  },
  {
   "cell_type": "code",
   "execution_count": 0,
   "metadata": {
    "application/vnd.databricks.v1+cell": {
     "cellMetadata": {
      "byteLimit": 2048000,
      "rowLimit": 10000
     },
     "inputWidgets": {},
     "nuid": "5c41b2e4-34a5-4b7b-b64e-4a0a5da98fd3",
     "showTitle": false,
     "tableResultSettingsMap": {},
     "title": ""
    }
   },
   "outputs": [],
   "source": [
    "# Assuming your cleaned DataFrame is called 'df'\n",
    "\n",
    "# Set the mount point directory for the Silver layer\n",
    "silver_path = \"/mnt/mysilver/my_cleaned_data\"  # Update with your actual path\n",
    "\n",
    "# Write the cleaned DataFrame in Delta format\n",
    "df.write.format(\"delta\").mode(\"overwrite\").save(silver_path)\n"
   ]
  },
  {
   "cell_type": "markdown",
   "metadata": {
    "application/vnd.databricks.v1+cell": {
     "cellMetadata": {},
     "inputWidgets": {},
     "nuid": "0c838e67-73e9-40df-ad04-10cc7a6678e8",
     "showTitle": false,
     "tableResultSettingsMap": {},
     "title": ""
    }
   },
   "source": [
    "### Reading data from silver layer in delta formet"
   ]
  },
  {
   "cell_type": "code",
   "execution_count": 0,
   "metadata": {
    "application/vnd.databricks.v1+cell": {
     "cellMetadata": {
      "byteLimit": 2048000,
      "rowLimit": 10000
     },
     "inputWidgets": {},
     "nuid": "0bca90f7-d0f4-4193-83ca-adbcfa5ee6ef",
     "showTitle": false,
     "tableResultSettingsMap": {},
     "title": ""
    }
   },
   "outputs": [],
   "source": [
    "# Read the data back from Delta format\n",
    "df_read = spark.read.format(\"delta\").load(silver_path)\n",
    " \n",
    "# Show the first few rows\n",
    "df_read.show()\n"
   ]
  },
  {
   "cell_type": "markdown",
   "metadata": {
    "application/vnd.databricks.v1+cell": {
     "cellMetadata": {},
     "inputWidgets": {},
     "nuid": "e782c088-a1b2-4f40-8487-d177800dcf3a",
     "showTitle": false,
     "tableResultSettingsMap": {},
     "title": ""
    }
   },
   "source": [
    "### Reading cleaned data from silver layer"
   ]
  },
  {
   "cell_type": "code",
   "execution_count": 0,
   "metadata": {
    "application/vnd.databricks.v1+cell": {
     "cellMetadata": {
      "byteLimit": 2048000,
      "rowLimit": 10000
     },
     "inputWidgets": {},
     "nuid": "af15760e-abd9-47e2-b52f-614b3cd73ee1",
     "showTitle": false,
     "tableResultSettingsMap": {},
     "title": ""
    }
   },
   "outputs": [],
   "source": [
    "from pyspark.sql.functions import monotonically_increasing_id, row_number\n",
    "from pyspark.sql.window import Window\n",
    "\n",
    "# Load the cleaned Delta dataset from the folder\n",
    "df = spark.read.format(\"delta\").load(\"/mnt/mysilver/my_cleaned_data\")\n",
    "\n",
    "# Show schema to verify structure\n",
    "df.printSchema()\n",
    "\n"
   ]
  },
  {
   "cell_type": "markdown",
   "metadata": {
    "application/vnd.databricks.v1+cell": {
     "cellMetadata": {},
     "inputWidgets": {},
     "nuid": "3cc11b16-b53d-43f5-8986-c2bf62062d02",
     "showTitle": false,
     "tableResultSettingsMap": {},
     "title": ""
    }
   },
   "source": [
    "### converting the cleaned data into 3NF and storing in the format of delta tables in silver layer"
   ]
  },
  {
   "cell_type": "code",
   "execution_count": 0,
   "metadata": {
    "application/vnd.databricks.v1+cell": {
     "cellMetadata": {
      "byteLimit": 2048000,
      "rowLimit": 10000
     },
     "inputWidgets": {},
     "nuid": "1558bde3-e7a2-4506-907e-b504ab840703",
     "showTitle": false,
     "tableResultSettingsMap": {},
     "title": ""
    }
   },
   "outputs": [],
   "source": [
    "from pyspark.sql.functions import col\n",
    "from pyspark.sql.window import Window\n",
    "\n",
    "# Define silver base path\n",
    "silver_base_path = \"/mnt/mysilver\"\n",
    "\n",
    "# Load cleansed data from Silver layer\n",
    "df = spark.read.format(\"delta\").load(f\"{silver_base_path}/my_cleaned_data\")\n",
    "\n",
    "# ----------------------------\n",
    "# DRIVERS TABLE\n",
    "df_drivers = df.select(\"driver_ID\", \"driver_name\", \"nationality\", \"code\").dropDuplicates()\n",
    "df_drivers.write.format(\"delta\").mode(\"overwrite\").save(f\"{silver_base_path}/drivers\")\n",
    "\n",
    "# ----------------------------\n",
    "# CONSTRUCTORS TABLE\n",
    "df_constructors = df.select(\"constructor\").dropDuplicates() \\\n",
    "    .withColumnRenamed(\"constructor\", \"constructor_name\") \\\n",
    "    .withColumn(\"constructor_id\", monotonically_increasing_id())  # optional ID if missing\n",
    "df_constructors.write.format(\"delta\").mode(\"overwrite\").save(f\"{silver_base_path}/constructors\")\n",
    "\n",
    "# ----------------------------\n",
    "# CIRCUITS TABLE\n",
    "df_circuits = df.select(\n",
    "    \"circuit_ID\", \"circuit_name\", \"lat\", \"long\", \"locality\", \"country\", \"track_type\", \"direction\", \"length\"\n",
    ").dropDuplicates()\n",
    "df_circuits.write.format(\"delta\").mode(\"overwrite\").save(f\"{silver_base_path}/circuits\")\n",
    "\n",
    "# ----------------------------\n",
    "# RACES TABLE\n",
    "df_races = df.select(\n",
    "    \"season\", \"round\", \"race_name\", \"circuit_ID\", \"date\", \"distance\", \"weather\"\n",
    ").dropDuplicates()\n",
    "df_races.write.format(\"delta\").mode(\"overwrite\").save(f\"{silver_base_path}/races\")\n",
    "\n",
    "# ----------------------------\n",
    "# RESULTS TABLE\n",
    "df_results = df.select(\n",
    "    \"season\", \"round\", \"race_name\", \"driver_ID\", \"constructor\", \"grid\", \"finish_position\",\n",
    "    \"time\", \"status\", \"points\"\n",
    ").dropDuplicates()\n",
    "df_results.write.format(\"delta\").mode(\"overwrite\").save(f\"{silver_base_path}/results\")\n",
    "\n",
    "# ----------------------------\n",
    "# QUALIFYING TABLE\n",
    "df_qualifying = df.select(\n",
    "    \"season\", \"round\", \"race_name\", \"driver_ID\", \"qualify_Position\",\n",
    "    \"qualify_Best_Time\", \"qualify_Worst_Time\", \"qualify_Average_Time\"\n",
    ").dropDuplicates()\n",
    "df_qualifying.write.format(\"delta\").mode(\"overwrite\").save(f\"{silver_base_path}/qualifying\")\n",
    "\n"
   ]
  },
  {
   "cell_type": "markdown",
   "metadata": {
    "application/vnd.databricks.v1+cell": {
     "cellMetadata": {},
     "inputWidgets": {},
     "nuid": "3f32258c-bc03-43b9-b4ae-6cb208f0fd2a",
     "showTitle": false,
     "tableResultSettingsMap": {},
     "title": ""
    }
   },
   "source": [
    "### Creating ⭐ Star Schema with fact_table and dim_tables"
   ]
  },
  {
   "cell_type": "code",
   "execution_count": 0,
   "metadata": {
    "application/vnd.databricks.v1+cell": {
     "cellMetadata": {
      "byteLimit": 2048000,
      "rowLimit": 10000
     },
     "inputWidgets": {},
     "nuid": "a80dbdb7-1879-4b1c-a910-0b08b3278c0f",
     "showTitle": false,
     "tableResultSettingsMap": {},
     "title": ""
    }
   },
   "outputs": [],
   "source": [
    "from pyspark.sql.functions import col\n",
    "\n",
    "\n",
    "# Load cleaned data from Silver layer (Delta format)\n",
    "silver_path = \"/mnt/mysilver/my_cleaned_data\"\n",
    "df = spark.read.format(\"delta\").load(silver_path)\n",
    "\n",
    "# GOLD layer base path\n",
    "gold_path = \"/mnt/mygold/f1_star_schema\"\n",
    "\n",
    "# DIM_DRIVER\n",
    "dim_driver = df.select(\"driver_ID\", \"driver_name\", \"nationality\", \"code\").dropDuplicates()\n",
    "dim_driver.write.format(\"delta\").mode(\"overwrite\").save(f\"{gold_path}/dim_driver\")\n",
    "\n",
    "# DIM_CONSTRUCTOR\n",
    "dim_constructor = df.select(\"constructor\").dropDuplicates().withColumnRenamed(\"constructor\", \"constructor_name\")\n",
    "dim_constructor.write.format(\"delta\").mode(\"overwrite\").save(f\"{gold_path}/dim_constructor\")\n",
    "\n",
    "# DIM_CIRCUIT\n",
    "dim_circuit = df.select(\"circuit_ID\", \"circuit_name\", \"lat\", \"long\", \"locality\", \"country\", \"track_type\", \"direction\", \"length\").dropDuplicates()\n",
    "dim_circuit.write.format(\"delta\").mode(\"overwrite\").save(f\"{gold_path}/dim_circuit\")\n",
    "\n",
    "# DIM_DATE\n",
    "dim_date = df.select(\"date\", \"season\", \"round\").dropDuplicates()\n",
    "dim_date.write.format(\"delta\").mode(\"overwrite\").save(f\"{gold_path}/dim_date\")\n",
    "\n",
    "# DIM_QUALIFYING\n",
    "dim_qualifying = df.select(\"driver_ID\", \"race_name\", \"qualify_Position\", \"qualify_Best_Time\", \"qualify_Worst_Time\", \"qualify_Average_Time\").dropDuplicates()\n",
    "dim_qualifying.write.format(\"delta\").mode(\"overwrite\").save(f\"{gold_path}/dim_qualifying\")\n",
    "\n",
    "# DIM_RACE\n",
    "dim_race = df.select(\"race_name\", \"distance\", \"weather\").dropDuplicates()\n",
    "dim_race.write.format(\"delta\").mode(\"overwrite\").save(f\"{gold_path}/dim_race\")\n",
    "\n",
    "# FACT_RACE_RESULTS\n",
    "fact_race_results = df.select(\n",
    "    \"season\", \"round\", \"race_name\", \"circuit_ID\", \"date\", \"driver_ID\", \"constructor\", \"grid\",\n",
    "    col(\"finish_position\").alias(\"position\"), \"time\", \"status\", \"points\"\n",
    ")\n",
    "fact_race_results.write.format(\"delta\").mode(\"overwrite\").save(f\"{gold_path}/fact_race_results\")\n"
   ]
  },
  {
   "cell_type": "markdown",
   "metadata": {
    "application/vnd.databricks.v1+cell": {
     "cellMetadata": {},
     "inputWidgets": {},
     "nuid": "458f26be-c33e-44a8-8385-bfd4505f6776",
     "showTitle": false,
     "tableResultSettingsMap": {},
     "title": ""
    }
   },
   "source": [
    "### 1. Aggregations \n",
    "### 1.1 Ave Avg Points per Driver"
   ]
  },
  {
   "cell_type": "code",
   "execution_count": 0,
   "metadata": {
    "application/vnd.databricks.v1+cell": {
     "cellMetadata": {
      "byteLimit": 2048000,
      "rowLimit": 10000
     },
     "inputWidgets": {},
     "nuid": "eb1e0389-5d37-46d5-96db-53d8c7a0bdb7",
     "showTitle": false,
     "tableResultSettingsMap": {},
     "title": ""
    }
   },
   "outputs": [],
   "source": [
    "from pyspark.sql.functions import col, avg as spark_avg, sum as spark_sum, count, min as spark_min\n",
    "\n",
    "base = \"/mnt/mygold/f1_star_schema_analytics\"\n",
    "agg_avg_points_per_driver = (\n",
    "    spark.read.format(\"delta\").load(f\"{gold_path}/fact_race_results\")\n",
    "      .groupBy(\"driver_ID\")\n",
    "      .agg(spark_avg(\"points\").alias(\"avg_points\"))\n",
    "      .join(spark.read.format(\"delta\").load(f\"{gold_path}/dim_driver\"), \"driver_ID\")\n",
    ")\n",
    "agg_avg_points_per_driver.write.format(\"delta\").mode(\"overwrite\").save(f\"{base}/agg_avg_points_per_driver\")\n",
    "agg_avg_points_per_driver.show()\n"
   ]
  },
  {
   "cell_type": "code",
   "execution_count": 0,
   "metadata": {
    "application/vnd.databricks.v1+cell": {
     "cellMetadata": {
      "byteLimit": 2048000,
      "rowLimit": 10000
     },
     "inputWidgets": {},
     "nuid": "3ae12dbf-7894-4605-8ec3-fe0e83b01225",
     "showTitle": false,
     "tableResultSettingsMap": {},
     "title": ""
    }
   },
   "outputs": [],
   "source": [
    "df_results.printSchema()\n"
   ]
  },
  {
   "cell_type": "code",
   "execution_count": 0,
   "metadata": {
    "application/vnd.databricks.v1+cell": {
     "cellMetadata": {
      "byteLimit": 2048000,
      "rowLimit": 10000
     },
     "inputWidgets": {},
     "nuid": "5127cb2f-d5e0-45dd-8f20-bf468c35c3db",
     "showTitle": false,
     "tableResultSettingsMap": {},
     "title": ""
    }
   },
   "outputs": [
    {
     "output_type": "display_data",
     "data": {
      "text/plain": [
       "Databricks visualization. Run in Databricks to view."
      ]
     },
     "metadata": {
      "application/vnd.databricks.v1.subcommand+json": {
       "baseErrorDetails": null,
       "bindings": {},
       "collapsed": false,
       "command": "%python\n__backend_agg_display_orig = display\n__backend_agg_dfs = []\ndef __backend_agg_display_new(df):\n    __backend_agg_df_modules = [\"pandas.core.frame\", \"databricks.koalas.frame\", \"pyspark.sql.dataframe\", \"pyspark.pandas.frame\", \"pyspark.sql.connect.dataframe\"]\n    if (type(df).__module__ in __backend_agg_df_modules and type(df).__name__ == 'DataFrame') or isinstance(df, list):\n        __backend_agg_dfs.append(df)\n\ndisplay = __backend_agg_display_new\n\ndef __backend_agg_user_code_fn():\n    import base64\n    exec(base64.standard_b64decode(\"ZGlzcGxheShhZ2dfYXZnX3BvaW50c19wZXJfZHJpdmVyKQ==\").decode())\n\ntry:\n    # run user code\n    __backend_agg_user_code_fn()\n\n    #reset display function\n    display = __backend_agg_display_orig\n\n    if len(__backend_agg_dfs) > 0:\n        # create a temp view\n        if type(__backend_agg_dfs[0]).__module__ == \"databricks.koalas.frame\":\n            # koalas dataframe\n            __backend_agg_dfs[0].to_spark().createOrReplaceTempView(\"DatabricksViewdf055c2\")\n        elif type(__backend_agg_dfs[0]).__module__ == \"pandas.core.frame\" or isinstance(__backend_agg_dfs[0], list):\n            # pandas dataframe\n            spark.createDataFrame(__backend_agg_dfs[0]).createOrReplaceTempView(\"DatabricksViewdf055c2\")\n        else:\n            __backend_agg_dfs[0].createOrReplaceTempView(\"DatabricksViewdf055c2\")\n        #run backend agg\n        display(spark.sql(\"\"\"WITH q AS (select * from DatabricksViewdf055c2) SELECT `driver_ID`,SUM(`avg_points`) `column_401507eb77`,`driver_ID` FROM q GROUP BY `driver_ID`\"\"\"))\n    else:\n        displayHTML(\"dataframe no longer exists. If you're using dataframe.display(), use display(dataframe) instead.\")\n\n\nfinally:\n    spark.sql(\"drop view if exists DatabricksViewdf055c2\")\n    display = __backend_agg_display_orig\n    del __backend_agg_display_new\n    del __backend_agg_display_orig\n    del __backend_agg_dfs\n    del __backend_agg_user_code_fn\n\n",
       "commandTitle": "Visualization 1",
       "commandType": "auto",
       "commandVersion": 0,
       "commentThread": [],
       "commentsVisible": false,
       "contentSha256Hex": null,
       "customPlotOptions": {
        "redashChart": [
         {
          "key": "type",
          "value": "CHART"
         },
         {
          "key": "options",
          "value": {
           "alignYAxesAtZero": true,
           "coefficient": 1,
           "columnConfigurationMap": {
            "series": {
             "column": "driver_ID",
             "id": "column_401507eb79"
            },
            "x": {
             "column": "driver_ID",
             "id": "column_401507eb75"
            },
            "y": [
             {
              "column": "avg_points",
              "id": "column_401507eb77",
              "transform": "SUM"
             }
            ]
           },
           "dateTimeFormat": "DD/MM/YYYY HH:mm",
           "direction": {
            "type": "counterclockwise"
           },
           "error_y": {
            "type": "data",
            "visible": true
           },
           "globalSeriesType": "column",
           "isAggregationOn": true,
           "legend": {
            "traceorder": "normal"
           },
           "missingValuesAsZero": true,
           "numberFormat": "0,0.[00000]",
           "percentFormat": "0[.]00%",
           "series": {
            "error_y": {
             "type": "data",
             "visible": true
            },
            "stacking": null
           },
           "seriesOptions": {
            "column_401507eb77": {
             "type": "column",
             "yAxis": 0
            }
           },
           "showDataLabels": false,
           "sizemode": "diameter",
           "sortX": true,
           "sortY": true,
           "swappedAxes": false,
           "textFormat": "",
           "useAggregationsUi": true,
           "valuesOptions": {},
           "version": 2,
           "xAxis": {
            "labels": {
             "enabled": true
            },
            "type": "-"
           },
           "yAxis": [
            {
             "type": "-"
            },
            {
             "opposite": true,
             "type": "-"
            }
           ]
          }
         }
        ]
       },
       "datasetPreviewNameToCmdIdMap": {},
       "diffDeletes": [],
       "diffInserts": [],
       "displayType": "redashChart",
       "error": null,
       "errorDetails": null,
       "errorSummary": null,
       "errorTraceType": null,
       "finishTime": 0,
       "globalVars": {},
       "guid": "",
       "height": "auto",
       "hideCommandCode": false,
       "hideCommandResult": false,
       "iPythonMetadata": null,
       "inputWidgets": {},
       "isLockedInExamMode": false,
       "latestUser": "a user",
       "latestUserId": null,
       "listResultMetadata": null,
       "metadata": {},
       "nuid": "b8dd0656-fddc-4c28-81ee-a1255fa200f1",
       "origId": 0,
       "parentHierarchy": [],
       "pivotAggregation": null,
       "pivotColumns": null,
       "position": 22.0,
       "resultDbfsErrorMessage": null,
       "resultDbfsStatus": "INLINED_IN_TREE",
       "results": null,
       "showCommandTitle": false,
       "startTime": 0,
       "state": "input",
       "streamStates": {},
       "subcommandOptions": {
        "queryPlan": {
         "groups": [
          {
           "column": "driver_ID",
           "type": "column"
          },
          {
           "column": "driver_ID",
           "type": "column"
          }
         ],
         "selects": [
          {
           "column": "driver_ID",
           "type": "column"
          },
          {
           "alias": "column_401507eb77",
           "args": [
            {
             "column": "avg_points",
             "type": "column"
            }
           ],
           "function": "SUM",
           "type": "function"
          },
          {
           "column": "driver_ID",
           "type": "column"
          }
         ]
        }
       },
       "submitTime": 0,
       "subtype": "tableResultSubCmd.visualization",
       "tableResultIndex": 0,
       "tableResultSettingsMap": {},
       "useConsistentColors": false,
       "version": "CommandV1",
       "width": "auto",
       "workflows": null,
       "xColumns": null,
       "yColumns": null
      }
     },
     "output_type": "display_data"
    }
   ],
   "source": [
    "display(agg_avg_points_per_driver)"
   ]
  },
  {
   "cell_type": "markdown",
   "metadata": {
    "application/vnd.databricks.v1+cell": {
     "cellMetadata": {},
     "inputWidgets": {},
     "nuid": "77ba289e-ed39-4f44-bcf9-ca7f92339c03",
     "showTitle": false,
     "tableResultSettingsMap": {},
     "title": ""
    }
   },
   "source": [
    "### 1.2 Total Races per Circuit"
   ]
  },
  {
   "cell_type": "code",
   "execution_count": 0,
   "metadata": {
    "application/vnd.databricks.v1+cell": {
     "cellMetadata": {
      "byteLimit": 2048000,
      "rowLimit": 10000
     },
     "inputWidgets": {},
     "nuid": "cc3b70ee-46e7-44ba-8618-a9b1bc751455",
     "showTitle": false,
     "tableResultSettingsMap": {},
     "title": ""
    }
   },
   "outputs": [
    {
     "output_type": "display_data",
     "data": {
      "text/plain": [
       "Databricks visualization. Run in Databricks to view."
      ]
     },
     "metadata": {
      "application/vnd.databricks.v1.subcommand+json": {
       "baseErrorDetails": null,
       "bindings": {},
       "collapsed": false,
       "command": "%python\n__backend_agg_display_orig = display\n__backend_agg_dfs = []\ndef __backend_agg_display_new(df):\n    __backend_agg_df_modules = [\"pandas.core.frame\", \"databricks.koalas.frame\", \"pyspark.sql.dataframe\", \"pyspark.pandas.frame\", \"pyspark.sql.connect.dataframe\"]\n    if (type(df).__module__ in __backend_agg_df_modules and type(df).__name__ == 'DataFrame') or isinstance(df, list):\n        __backend_agg_dfs.append(df)\n\ndisplay = __backend_agg_display_new\n\ndef __backend_agg_user_code_fn():\n    import base64\n    exec(base64.standard_b64decode(\"ZnJvbSBweXNwYXJrLnNxbC5mdW5jdGlvbnMgaW1wb3J0IGNvbCwgYXZnIGFzIHNwYXJrX2F2Zywgc3VtIGFzIHNwYXJrX3N1bSwgY291bnQsIG1pbiBhcyBzcGFya19taW4KCmJhc2UgPSAiL21udC9teWdvbGQvZjFfc3Rhcl9zY2hlbWFfYW5hbHl0aWNzIgphZ2dfcmFjZXNfcGVyX2NpcmN1aXQgPSAoCiAgICBzcGFyay5yZWFkLmZvcm1hdCgiZGVsdGEiKS5sb2FkKGYie2dvbGRfcGF0aH0vZmFjdF9yYWNlX3Jlc3VsdHMiKQogICAgICAuZ3JvdXBCeSgiY2lyY3VpdF9JRCIpCiAgICAgIC5hZ2coY291bnQoIioiKS5hbGlhcygibnVtX3JhY2VzIikpCiAgICAgIC5qb2luKHNwYXJrLnJlYWQuZm9ybWF0KCJkZWx0YSIpLmxvYWQoZiJ7Z29sZF9wYXRofS9kaW1fY2lyY3VpdCIpLCAiY2lyY3VpdF9JRCIpCikKYWdnX3JhY2VzX3Blcl9jaXJjdWl0LndyaXRlLmZvcm1hdCgiZGVsdGEiKS5tb2RlKCJvdmVyd3JpdGUiKS5zYXZlKGYie2Jhc2V9L2FnZ19yYWNlc19wZXJfY2lyY3VpdCIpCmRpc3BsYXkoYWdnX3JhY2VzX3Blcl9jaXJjdWl0KQo=\").decode())\n\ntry:\n    # run user code\n    __backend_agg_user_code_fn()\n\n    #reset display function\n    display = __backend_agg_display_orig\n\n    if len(__backend_agg_dfs) > 0:\n        # create a temp view\n        if type(__backend_agg_dfs[0]).__module__ == \"databricks.koalas.frame\":\n            # koalas dataframe\n            __backend_agg_dfs[0].to_spark().createOrReplaceTempView(\"DatabricksView601b0a1\")\n        elif type(__backend_agg_dfs[0]).__module__ == \"pandas.core.frame\" or isinstance(__backend_agg_dfs[0], list):\n            # pandas dataframe\n            spark.createDataFrame(__backend_agg_dfs[0]).createOrReplaceTempView(\"DatabricksView601b0a1\")\n        else:\n            __backend_agg_dfs[0].createOrReplaceTempView(\"DatabricksView601b0a1\")\n        #run backend agg\n        display(spark.sql(\"\"\"WITH q AS (select * from DatabricksView601b0a1) SELECT `circuit_ID`,SUM(`num_races`) `column_401507eb99`,`circuit_ID` FROM q GROUP BY `circuit_ID`\"\"\"))\n    else:\n        displayHTML(\"dataframe no longer exists. If you're using dataframe.display(), use display(dataframe) instead.\")\n\n\nfinally:\n    spark.sql(\"drop view if exists DatabricksView601b0a1\")\n    display = __backend_agg_display_orig\n    del __backend_agg_display_new\n    del __backend_agg_display_orig\n    del __backend_agg_dfs\n    del __backend_agg_user_code_fn\n\n",
       "commandTitle": "Visualization 1",
       "commandType": "auto",
       "commandVersion": 0,
       "commentThread": [],
       "commentsVisible": false,
       "contentSha256Hex": null,
       "customPlotOptions": {
        "redashChart": [
         {
          "key": "type",
          "value": "CHART"
         },
         {
          "key": "options",
          "value": {
           "alignYAxesAtZero": true,
           "coefficient": 1,
           "columnConfigurationMap": {
            "series": {
             "column": "circuit_ID",
             "id": "column_401507eb101"
            },
            "x": {
             "column": "circuit_ID",
             "id": "column_401507eb97"
            },
            "y": [
             {
              "column": "num_races",
              "id": "column_401507eb99",
              "transform": "SUM"
             }
            ]
           },
           "dateTimeFormat": "DD/MM/YYYY HH:mm",
           "direction": {
            "type": "counterclockwise"
           },
           "error_y": {
            "type": "data",
            "visible": true
           },
           "globalSeriesType": "column",
           "isAggregationOn": true,
           "legend": {
            "traceorder": "normal"
           },
           "missingValuesAsZero": true,
           "numberFormat": "0,0.[00000]",
           "percentFormat": "0[.]00%",
           "series": {
            "error_y": {
             "type": "data",
             "visible": true
            },
            "stacking": null
           },
           "seriesOptions": {
            "BAK": {
             "yAxis": 0
            },
            "column_401507eb99": {
             "type": "column",
             "yAxis": 0
            }
           },
           "showDataLabels": false,
           "sizemode": "diameter",
           "sortX": true,
           "sortY": true,
           "swappedAxes": false,
           "textFormat": "",
           "useAggregationsUi": true,
           "valuesOptions": {},
           "version": 2,
           "xAxis": {
            "labels": {
             "enabled": true
            },
            "title": {
             "text": "Circuit_id"
            },
            "type": "-"
           },
           "yAxis": [
            {
             "title": {
              "text": "Number_of_races"
             },
             "type": "-"
            },
            {
             "opposite": true,
             "type": "-"
            }
           ]
          }
         }
        ]
       },
       "datasetPreviewNameToCmdIdMap": {},
       "diffDeletes": [],
       "diffInserts": [],
       "displayType": "redashChart",
       "error": null,
       "errorDetails": null,
       "errorSummary": null,
       "errorTraceType": null,
       "finishTime": 0,
       "globalVars": {},
       "guid": "",
       "height": "auto",
       "hideCommandCode": false,
       "hideCommandResult": false,
       "iPythonMetadata": null,
       "inputWidgets": {},
       "isLockedInExamMode": false,
       "latestUser": "a user",
       "latestUserId": null,
       "listResultMetadata": null,
       "metadata": {},
       "nuid": "f5a92eeb-2aaa-405b-9bd0-2cc28e72da8c",
       "origId": 0,
       "parentHierarchy": [],
       "pivotAggregation": null,
       "pivotColumns": null,
       "position": 23.0,
       "resultDbfsErrorMessage": null,
       "resultDbfsStatus": "INLINED_IN_TREE",
       "results": null,
       "showCommandTitle": false,
       "startTime": 0,
       "state": "input",
       "streamStates": {},
       "subcommandOptions": {
        "queryPlan": {
         "groups": [
          {
           "column": "circuit_ID",
           "type": "column"
          },
          {
           "column": "circuit_ID",
           "type": "column"
          }
         ],
         "selects": [
          {
           "column": "circuit_ID",
           "type": "column"
          },
          {
           "alias": "column_401507eb99",
           "args": [
            {
             "column": "num_races",
             "type": "column"
            }
           ],
           "function": "SUM",
           "type": "function"
          },
          {
           "column": "circuit_ID",
           "type": "column"
          }
         ]
        }
       },
       "submitTime": 0,
       "subtype": "tableResultSubCmd.visualization",
       "tableResultIndex": 0,
       "tableResultSettingsMap": {},
       "useConsistentColors": false,
       "version": "CommandV1",
       "width": "auto",
       "workflows": null,
       "xColumns": null,
       "yColumns": null
      }
     },
     "output_type": "display_data"
    },
    {
     "output_type": "display_data",
     "data": {
      "text/plain": [
       "Databricks visualization. Run in Databricks to view."
      ]
     },
     "metadata": {
      "application/vnd.databricks.v1.subcommand+json": {
       "baseErrorDetails": null,
       "bindings": {},
       "collapsed": false,
       "command": "%python\n__backend_agg_display_orig = display\n__backend_agg_dfs = []\ndef __backend_agg_display_new(df):\n    __backend_agg_df_modules = [\"pandas.core.frame\", \"databricks.koalas.frame\", \"pyspark.sql.dataframe\", \"pyspark.pandas.frame\", \"pyspark.sql.connect.dataframe\"]\n    if (type(df).__module__ in __backend_agg_df_modules and type(df).__name__ == 'DataFrame') or isinstance(df, list):\n        __backend_agg_dfs.append(df)\n\ndisplay = __backend_agg_display_new\n\ndef __backend_agg_user_code_fn():\n    import base64\n    exec(base64.standard_b64decode(\"ZnJvbSBweXNwYXJrLnNxbC5mdW5jdGlvbnMgaW1wb3J0IGNvbCwgYXZnIGFzIHNwYXJrX2F2Zywgc3VtIGFzIHNwYXJrX3N1bSwgY291bnQsIG1pbiBhcyBzcGFya19taW4KCmJhc2UgPSAiL21udC9teWdvbGQvZjFfc3Rhcl9zY2hlbWFfYW5hbHl0aWNzIgphZ2dfcmFjZXNfcGVyX2NpcmN1aXQgPSAoCiAgICBzcGFyay5yZWFkLmZvcm1hdCgiZGVsdGEiKS5sb2FkKGYie2dvbGRfcGF0aH0vZmFjdF9yYWNlX3Jlc3VsdHMiKQogICAgICAuZ3JvdXBCeSgiY2lyY3VpdF9JRCIpCiAgICAgIC5hZ2coY291bnQoIioiKS5hbGlhcygibnVtX3JhY2VzIikpCiAgICAgIC5qb2luKHNwYXJrLnJlYWQuZm9ybWF0KCJkZWx0YSIpLmxvYWQoZiJ7Z29sZF9wYXRofS9kaW1fY2lyY3VpdCIpLCAiY2lyY3VpdF9JRCIpCikKYWdnX3JhY2VzX3Blcl9jaXJjdWl0LndyaXRlLmZvcm1hdCgiZGVsdGEiKS5tb2RlKCJvdmVyd3JpdGUiKS5zYXZlKGYie2Jhc2V9L2FnZ19yYWNlc19wZXJfY2lyY3VpdCIpCmRpc3BsYXkoYWdnX3JhY2VzX3Blcl9jaXJjdWl0KQo=\").decode())\n\ntry:\n    # run user code\n    __backend_agg_user_code_fn()\n\n    #reset display function\n    display = __backend_agg_display_orig\n\n    if len(__backend_agg_dfs) > 0:\n        # create a temp view\n        if type(__backend_agg_dfs[0]).__module__ == \"databricks.koalas.frame\":\n            # koalas dataframe\n            __backend_agg_dfs[0].to_spark().createOrReplaceTempView(\"DatabricksView1433987\")\n        elif type(__backend_agg_dfs[0]).__module__ == \"pandas.core.frame\" or isinstance(__backend_agg_dfs[0], list):\n            # pandas dataframe\n            spark.createDataFrame(__backend_agg_dfs[0]).createOrReplaceTempView(\"DatabricksView1433987\")\n        else:\n            __backend_agg_dfs[0].createOrReplaceTempView(\"DatabricksView1433987\")\n        #run backend agg\n        display(spark.sql(\"\"\"WITH q AS (select * from DatabricksView1433987) SELECT `circuit_name`,SUM(`num_races`) `column_71e1b3e876`,`circuit_name` FROM q GROUP BY `circuit_name`\"\"\"))\n    else:\n        displayHTML(\"dataframe no longer exists. If you're using dataframe.display(), use display(dataframe) instead.\")\n\n\nfinally:\n    spark.sql(\"drop view if exists DatabricksView1433987\")\n    display = __backend_agg_display_orig\n    del __backend_agg_display_new\n    del __backend_agg_display_orig\n    del __backend_agg_dfs\n    del __backend_agg_user_code_fn\n\n",
       "commandTitle": "Visualization 2",
       "commandType": "auto",
       "commandVersion": 0,
       "commentThread": [],
       "commentsVisible": false,
       "contentSha256Hex": null,
       "customPlotOptions": {
        "redashChart": [
         {
          "key": "type",
          "value": "CHART"
         },
         {
          "key": "options",
          "value": {
           "alignYAxesAtZero": true,
           "coefficient": 1,
           "columnConfigurationMap": {
            "series": {
             "column": "circuit_name",
             "id": "column_71e1b3e878"
            },
            "x": {
             "column": "circuit_name",
             "id": "column_71e1b3e874"
            },
            "y": [
             {
              "column": "num_races",
              "id": "column_71e1b3e876",
              "transform": "SUM"
             }
            ]
           },
           "dateTimeFormat": "DD/MM/YYYY HH:mm",
           "direction": {
            "type": "counterclockwise"
           },
           "error_y": {
            "type": "data",
            "visible": true
           },
           "globalSeriesType": "column",
           "isAggregationOn": true,
           "legend": {
            "traceorder": "normal"
           },
           "missingValuesAsZero": true,
           "numberFormat": "0,0.[00000]",
           "percentFormat": "0[.]00%",
           "series": {
            "error_y": {
             "type": "data",
             "visible": true
            },
            "stacking": null
           },
           "seriesOptions": {
            "column_71e1b3e876": {
             "type": "column",
             "yAxis": 0
            }
           },
           "showDataLabels": false,
           "sizemode": "diameter",
           "sortX": true,
           "sortY": true,
           "swappedAxes": false,
           "textFormat": "",
           "useAggregationsUi": true,
           "valuesOptions": {},
           "version": 2,
           "xAxis": {
            "labels": {
             "enabled": true
            },
            "type": "-"
           },
           "yAxis": [
            {
             "type": "-"
            },
            {
             "opposite": true,
             "type": "-"
            }
           ]
          }
         }
        ]
       },
       "datasetPreviewNameToCmdIdMap": {},
       "diffDeletes": [],
       "diffInserts": [],
       "displayType": "redashChart",
       "error": null,
       "errorDetails": null,
       "errorSummary": null,
       "errorTraceType": null,
       "finishTime": 0,
       "globalVars": {},
       "guid": "",
       "height": "auto",
       "hideCommandCode": false,
       "hideCommandResult": false,
       "iPythonMetadata": null,
       "inputWidgets": {},
       "isLockedInExamMode": false,
       "latestUser": "a user",
       "latestUserId": null,
       "listResultMetadata": null,
       "metadata": {},
       "nuid": "c5093d7d-b8ae-4774-a5a3-f29762d09c1d",
       "origId": 0,
       "parentHierarchy": [],
       "pivotAggregation": null,
       "pivotColumns": null,
       "position": 24.0,
       "resultDbfsErrorMessage": null,
       "resultDbfsStatus": "INLINED_IN_TREE",
       "results": null,
       "showCommandTitle": false,
       "startTime": 0,
       "state": "input",
       "streamStates": {},
       "subcommandOptions": {
        "queryPlan": {
         "groups": [
          {
           "column": "circuit_name",
           "type": "column"
          },
          {
           "column": "circuit_name",
           "type": "column"
          }
         ],
         "selects": [
          {
           "column": "circuit_name",
           "type": "column"
          },
          {
           "alias": "column_71e1b3e876",
           "args": [
            {
             "column": "num_races",
             "type": "column"
            }
           ],
           "function": "SUM",
           "type": "function"
          },
          {
           "column": "circuit_name",
           "type": "column"
          }
         ]
        }
       },
       "submitTime": 0,
       "subtype": "tableResultSubCmd.visualization",
       "tableResultIndex": 0,
       "tableResultSettingsMap": {},
       "useConsistentColors": false,
       "version": "CommandV1",
       "width": "auto",
       "workflows": null,
       "xColumns": null,
       "yColumns": null
      }
     },
     "output_type": "display_data"
    }
   ],
   "source": [
    "from pyspark.sql.functions import col, avg as spark_avg, sum as spark_sum, count, min as spark_min\n",
    "\n",
    "base = \"/mnt/mygold/f1_star_schema_analytics\"\n",
    "agg_races_per_circuit = (\n",
    "    spark.read.format(\"delta\").load(f\"{gold_path}/fact_race_results\")\n",
    "      .groupBy(\"circuit_ID\")\n",
    "      .agg(count(\"*\").alias(\"num_races\"))\n",
    "      .join(spark.read.format(\"delta\").load(f\"{gold_path}/dim_circuit\"), \"circuit_ID\")\n",
    ")\n",
    "agg_races_per_circuit.write.format(\"delta\").mode(\"overwrite\").save(f\"{base}/agg_races_per_circuit\")\n",
    "display(agg_races_per_circuit)\n"
   ]
  },
  {
   "cell_type": "markdown",
   "metadata": {
    "application/vnd.databricks.v1+cell": {
     "cellMetadata": {},
     "inputWidgets": {},
     "nuid": "e0534501-d137-4570-a176-4753d4c4bf11",
     "showTitle": false,
     "tableResultSettingsMap": {},
     "title": ""
    }
   },
   "source": [
    "### 1.3 Avg Qualify Position per Driver"
   ]
  },
  {
   "cell_type": "code",
   "execution_count": 0,
   "metadata": {
    "application/vnd.databricks.v1+cell": {
     "cellMetadata": {
      "byteLimit": 2048000,
      "rowLimit": 10000
     },
     "inputWidgets": {},
     "nuid": "c0075e4c-47d7-437e-a9d1-d609b502bf3d",
     "showTitle": false,
     "tableResultSettingsMap": {},
     "title": ""
    }
   },
   "outputs": [
    {
     "output_type": "display_data",
     "data": {
      "text/plain": [
       "Databricks visualization. Run in Databricks to view."
      ]
     },
     "metadata": {
      "application/vnd.databricks.v1.subcommand+json": {
       "baseErrorDetails": null,
       "bindings": {},
       "collapsed": false,
       "command": "%python\n__backend_agg_display_orig = display\n__backend_agg_dfs = []\ndef __backend_agg_display_new(df):\n    __backend_agg_df_modules = [\"pandas.core.frame\", \"databricks.koalas.frame\", \"pyspark.sql.dataframe\", \"pyspark.pandas.frame\", \"pyspark.sql.connect.dataframe\"]\n    if (type(df).__module__ in __backend_agg_df_modules and type(df).__name__ == 'DataFrame') or isinstance(df, list):\n        __backend_agg_dfs.append(df)\n\ndisplay = __backend_agg_display_new\n\ndef __backend_agg_user_code_fn():\n    import base64\n    exec(base64.standard_b64decode(\"ZnJvbSBweXNwYXJrLnNxbC5mdW5jdGlvbnMgaW1wb3J0IGNvbCwgYXZnIGFzIHNwYXJrX2F2Zywgc3VtIGFzIHNwYXJrX3N1bSwgY291bnQsIG1pbiBhcyBzcGFya19taW4KCmJhc2UgPSAiL21udC9teWdvbGQvZjFfc3Rhcl9zY2hlbWFfYW5hbHl0aWNzIgphZ2dfYXZnX3F1YWxpZnkgPSAoCiAgICBzcGFyay5yZWFkLmZvcm1hdCgiZGVsdGEiKS5sb2FkKGYie2dvbGRfcGF0aH0vZGltX3F1YWxpZnlpbmciKQogICAgICAuZ3JvdXBCeSgiZHJpdmVyX0lEIikKICAgICAgLmFnZyhzcGFya19hdmcoInF1YWxpZnlfUG9zaXRpb24iKS5hbGlhcygiYXZnX3F1YWxpZnlfcG9zIikpCiAgICAgIC5qb2luKHNwYXJrLnJlYWQuZm9ybWF0KCJkZWx0YSIpLmxvYWQoZiJ7Z29sZF9wYXRofS9kaW1fZHJpdmVyIiksICJkcml2ZXJfSUQiKQopCmFnZ19hdmdfcXVhbGlmeS53cml0ZS5mb3JtYXQoImRlbHRhIikubW9kZSgib3ZlcndyaXRlIikuc2F2ZShmIntiYXNlfS9hZ2dfYXZnX3F1YWxpZnlfcGVyX2RyaXZlciIpCmRpc3BsYXkoYWdnX2F2Z19xdWFsaWZ5KQo=\").decode())\n\ntry:\n    # run user code\n    __backend_agg_user_code_fn()\n\n    #reset display function\n    display = __backend_agg_display_orig\n\n    if len(__backend_agg_dfs) > 0:\n        # create a temp view\n        if type(__backend_agg_dfs[0]).__module__ == \"databricks.koalas.frame\":\n            # koalas dataframe\n            __backend_agg_dfs[0].to_spark().createOrReplaceTempView(\"DatabricksView549ef88\")\n        elif type(__backend_agg_dfs[0]).__module__ == \"pandas.core.frame\" or isinstance(__backend_agg_dfs[0], list):\n            # pandas dataframe\n            spark.createDataFrame(__backend_agg_dfs[0]).createOrReplaceTempView(\"DatabricksView549ef88\")\n        else:\n            __backend_agg_dfs[0].createOrReplaceTempView(\"DatabricksView549ef88\")\n        #run backend agg\n        display(spark.sql(\"\"\"WITH q AS (select * from DatabricksView549ef88) SELECT `driver_ID`,SUM(`avg_qualify_pos`) `column_1ea95d9069`,`driver_ID` FROM q GROUP BY `driver_ID`\"\"\"))\n    else:\n        displayHTML(\"dataframe no longer exists. If you're using dataframe.display(), use display(dataframe) instead.\")\n\n\nfinally:\n    spark.sql(\"drop view if exists DatabricksView549ef88\")\n    display = __backend_agg_display_orig\n    del __backend_agg_display_new\n    del __backend_agg_display_orig\n    del __backend_agg_dfs\n    del __backend_agg_user_code_fn\n\n",
       "commandTitle": "Visualization 1",
       "commandType": "auto",
       "commandVersion": 0,
       "commentThread": [],
       "commentsVisible": false,
       "contentSha256Hex": null,
       "customPlotOptions": {
        "redashChart": [
         {
          "key": "type",
          "value": "CHART"
         },
         {
          "key": "options",
          "value": {
           "alignYAxesAtZero": true,
           "coefficient": 1,
           "columnConfigurationMap": {
            "series": {
             "column": "driver_ID",
             "id": "column_1ea95d9071"
            },
            "x": {
             "column": "driver_ID",
             "id": "column_1ea95d9067"
            },
            "y": [
             {
              "column": "avg_qualify_pos",
              "id": "column_1ea95d9069",
              "transform": "SUM"
             }
            ]
           },
           "dateTimeFormat": "DD/MM/YYYY HH:mm",
           "direction": {
            "type": "counterclockwise"
           },
           "error_y": {
            "type": "data",
            "visible": true
           },
           "globalSeriesType": "column",
           "isAggregationOn": true,
           "legend": {
            "traceorder": "normal"
           },
           "missingValuesAsZero": true,
           "numberFormat": "0,0.[00000]",
           "percentFormat": "0[.]00%",
           "series": {
            "error_y": {
             "type": "data",
             "visible": true
            },
            "stacking": null
           },
           "seriesOptions": {
            "column_1ea95d9069": {
             "type": "column",
             "yAxis": 0
            }
           },
           "showDataLabels": false,
           "sizemode": "diameter",
           "sortX": true,
           "sortY": true,
           "swappedAxes": false,
           "textFormat": "",
           "useAggregationsUi": true,
           "valuesOptions": {},
           "version": 2,
           "xAxis": {
            "labels": {
             "enabled": true
            },
            "type": "-"
           },
           "yAxis": [
            {
             "type": "-"
            },
            {
             "opposite": true,
             "type": "-"
            }
           ]
          }
         }
        ]
       },
       "datasetPreviewNameToCmdIdMap": {},
       "diffDeletes": [],
       "diffInserts": [],
       "displayType": "redashChart",
       "error": null,
       "errorDetails": null,
       "errorSummary": null,
       "errorTraceType": null,
       "finishTime": 0,
       "globalVars": {},
       "guid": "",
       "height": "auto",
       "hideCommandCode": false,
       "hideCommandResult": false,
       "iPythonMetadata": null,
       "inputWidgets": {},
       "isLockedInExamMode": false,
       "latestUser": "a user",
       "latestUserId": null,
       "listResultMetadata": null,
       "metadata": {},
       "nuid": "67e03497-7b94-4a4c-b5e6-120b0eee7525",
       "origId": 0,
       "parentHierarchy": [],
       "pivotAggregation": null,
       "pivotColumns": null,
       "position": 25.0,
       "resultDbfsErrorMessage": null,
       "resultDbfsStatus": "INLINED_IN_TREE",
       "results": null,
       "showCommandTitle": false,
       "startTime": 0,
       "state": "input",
       "streamStates": {},
       "subcommandOptions": {
        "queryPlan": {
         "groups": [
          {
           "column": "driver_ID",
           "type": "column"
          },
          {
           "column": "driver_ID",
           "type": "column"
          }
         ],
         "selects": [
          {
           "column": "driver_ID",
           "type": "column"
          },
          {
           "alias": "column_1ea95d9069",
           "args": [
            {
             "column": "avg_qualify_pos",
             "type": "column"
            }
           ],
           "function": "SUM",
           "type": "function"
          },
          {
           "column": "driver_ID",
           "type": "column"
          }
         ]
        }
       },
       "submitTime": 0,
       "subtype": "tableResultSubCmd.visualization",
       "tableResultIndex": 0,
       "tableResultSettingsMap": {},
       "useConsistentColors": false,
       "version": "CommandV1",
       "width": "auto",
       "workflows": null,
       "xColumns": null,
       "yColumns": null
      }
     },
     "output_type": "display_data"
    },
    {
     "output_type": "display_data",
     "data": {
      "text/plain": [
       "Databricks visualization. Run in Databricks to view."
      ]
     },
     "metadata": {
      "application/vnd.databricks.v1.subcommand+json": {
       "baseErrorDetails": null,
       "bindings": {},
       "collapsed": false,
       "command": "%python\n__backend_agg_display_orig = display\n__backend_agg_dfs = []\ndef __backend_agg_display_new(df):\n    __backend_agg_df_modules = [\"pandas.core.frame\", \"databricks.koalas.frame\", \"pyspark.sql.dataframe\", \"pyspark.pandas.frame\", \"pyspark.sql.connect.dataframe\"]\n    if (type(df).__module__ in __backend_agg_df_modules and type(df).__name__ == 'DataFrame') or isinstance(df, list):\n        __backend_agg_dfs.append(df)\n\ndisplay = __backend_agg_display_new\n\ndef __backend_agg_user_code_fn():\n    import base64\n    exec(base64.standard_b64decode(\"ZnJvbSBweXNwYXJrLnNxbC5mdW5jdGlvbnMgaW1wb3J0IGNvbCwgYXZnIGFzIHNwYXJrX2F2Zywgc3VtIGFzIHNwYXJrX3N1bSwgY291bnQsIG1pbiBhcyBzcGFya19taW4KCmJhc2UgPSAiL21udC9teWdvbGQvZjFfc3Rhcl9zY2hlbWFfYW5hbHl0aWNzIgphZ2dfYXZnX3F1YWxpZnkgPSAoCiAgICBzcGFyay5yZWFkLmZvcm1hdCgiZGVsdGEiKS5sb2FkKGYie2dvbGRfcGF0aH0vZGltX3F1YWxpZnlpbmciKQogICAgICAuZ3JvdXBCeSgiZHJpdmVyX0lEIikKICAgICAgLmFnZyhzcGFya19hdmcoInF1YWxpZnlfUG9zaXRpb24iKS5hbGlhcygiYXZnX3F1YWxpZnlfcG9zIikpCiAgICAgIC5qb2luKHNwYXJrLnJlYWQuZm9ybWF0KCJkZWx0YSIpLmxvYWQoZiJ7Z29sZF9wYXRofS9kaW1fZHJpdmVyIiksICJkcml2ZXJfSUQiKQopCmFnZ19hdmdfcXVhbGlmeS53cml0ZS5mb3JtYXQoImRlbHRhIikubW9kZSgib3ZlcndyaXRlIikuc2F2ZShmIntiYXNlfS9hZ2dfYXZnX3F1YWxpZnlfcGVyX2RyaXZlciIpCmRpc3BsYXkoYWdnX2F2Z19xdWFsaWZ5KQo=\").decode())\n\ntry:\n    # run user code\n    __backend_agg_user_code_fn()\n\n    #reset display function\n    display = __backend_agg_display_orig\n\n    if len(__backend_agg_dfs) > 0:\n        # create a temp view\n        if type(__backend_agg_dfs[0]).__module__ == \"databricks.koalas.frame\":\n            # koalas dataframe\n            __backend_agg_dfs[0].to_spark().createOrReplaceTempView(\"DatabricksView5bdd700\")\n        elif type(__backend_agg_dfs[0]).__module__ == \"pandas.core.frame\" or isinstance(__backend_agg_dfs[0], list):\n            # pandas dataframe\n            spark.createDataFrame(__backend_agg_dfs[0]).createOrReplaceTempView(\"DatabricksView5bdd700\")\n        else:\n            __backend_agg_dfs[0].createOrReplaceTempView(\"DatabricksView5bdd700\")\n        #run backend agg\n        display(spark.sql(\"\"\"WITH q AS (select * from DatabricksView5bdd700) SELECT `driver_ID`,SUM(`avg_qualify_pos`) `column_1ea95d9074` FROM q GROUP BY `driver_ID`\"\"\"))\n    else:\n        displayHTML(\"dataframe no longer exists. If you're using dataframe.display(), use display(dataframe) instead.\")\n\n\nfinally:\n    spark.sql(\"drop view if exists DatabricksView5bdd700\")\n    display = __backend_agg_display_orig\n    del __backend_agg_display_new\n    del __backend_agg_display_orig\n    del __backend_agg_dfs\n    del __backend_agg_user_code_fn\n\n",
       "commandTitle": "Visualization 2",
       "commandType": "auto",
       "commandVersion": 0,
       "commentThread": [],
       "commentsVisible": false,
       "contentSha256Hex": null,
       "customPlotOptions": {
        "redashChart": [
         {
          "key": "type",
          "value": "CHART"
         },
         {
          "key": "options",
          "value": {
           "alignYAxesAtZero": true,
           "coefficient": 1,
           "columnConfigurationMap": {
            "x": {
             "column": "driver_ID",
             "id": "column_1ea95d9072"
            },
            "y": [
             {
              "column": "avg_qualify_pos",
              "id": "column_1ea95d9074",
              "transform": "SUM"
             }
            ]
           },
           "dateTimeFormat": "DD/MM/YYYY HH:mm",
           "direction": {
            "type": "counterclockwise"
           },
           "error_y": {
            "type": "data",
            "visible": true
           },
           "globalSeriesType": "line",
           "isAggregationOn": true,
           "legend": {
            "traceorder": "normal"
           },
           "missingValuesAsZero": true,
           "numberFormat": "0,0.[00000]",
           "percentFormat": "0[.]00%",
           "series": {
            "error_y": {
             "type": "data",
             "visible": true
            },
            "stacking": null
           },
           "seriesOptions": {
            "column_1ea95d9074": {
             "type": "line",
             "yAxis": 0
            }
           },
           "showDataLabels": false,
           "sizemode": "diameter",
           "sortX": true,
           "sortY": true,
           "swappedAxes": false,
           "textFormat": "",
           "useAggregationsUi": true,
           "valuesOptions": {},
           "version": 2,
           "xAxis": {
            "labels": {
             "enabled": true
            },
            "type": "-"
           },
           "yAxis": [
            {
             "type": "-"
            },
            {
             "opposite": true,
             "type": "-"
            }
           ]
          }
         }
        ]
       },
       "datasetPreviewNameToCmdIdMap": {},
       "diffDeletes": [],
       "diffInserts": [],
       "displayType": "redashChart",
       "error": null,
       "errorDetails": null,
       "errorSummary": null,
       "errorTraceType": null,
       "finishTime": 0,
       "globalVars": {},
       "guid": "",
       "height": "auto",
       "hideCommandCode": false,
       "hideCommandResult": false,
       "iPythonMetadata": null,
       "inputWidgets": {},
       "isLockedInExamMode": false,
       "latestUser": "a user",
       "latestUserId": null,
       "listResultMetadata": null,
       "metadata": {},
       "nuid": "23cd2741-500f-4a6a-83fa-50775d9a7637",
       "origId": 0,
       "parentHierarchy": [],
       "pivotAggregation": null,
       "pivotColumns": null,
       "position": 26.0,
       "resultDbfsErrorMessage": null,
       "resultDbfsStatus": "INLINED_IN_TREE",
       "results": null,
       "showCommandTitle": false,
       "startTime": 0,
       "state": "input",
       "streamStates": {},
       "subcommandOptions": {
        "queryPlan": {
         "groups": [
          {
           "column": "driver_ID",
           "type": "column"
          }
         ],
         "selects": [
          {
           "column": "driver_ID",
           "type": "column"
          },
          {
           "alias": "column_1ea95d9074",
           "args": [
            {
             "column": "avg_qualify_pos",
             "type": "column"
            }
           ],
           "function": "SUM",
           "type": "function"
          }
         ]
        }
       },
       "submitTime": 0,
       "subtype": "tableResultSubCmd.visualization",
       "tableResultIndex": 0,
       "tableResultSettingsMap": {},
       "useConsistentColors": false,
       "version": "CommandV1",
       "width": "auto",
       "workflows": null,
       "xColumns": null,
       "yColumns": null
      }
     },
     "output_type": "display_data"
    },
    {
     "output_type": "display_data",
     "data": {
      "text/plain": [
       "Databricks visualization. Run in Databricks to view."
      ]
     },
     "metadata": {
      "application/vnd.databricks.v1.subcommand+json": {
       "baseErrorDetails": null,
       "bindings": {},
       "collapsed": false,
       "command": "%python\n__backend_agg_display_orig = display\n__backend_agg_dfs = []\ndef __backend_agg_display_new(df):\n    __backend_agg_df_modules = [\"pandas.core.frame\", \"databricks.koalas.frame\", \"pyspark.sql.dataframe\", \"pyspark.pandas.frame\", \"pyspark.sql.connect.dataframe\"]\n    if (type(df).__module__ in __backend_agg_df_modules and type(df).__name__ == 'DataFrame') or isinstance(df, list):\n        __backend_agg_dfs.append(df)\n\ndisplay = __backend_agg_display_new\n\ndef __backend_agg_user_code_fn():\n    import base64\n    exec(base64.standard_b64decode(\"ZnJvbSBweXNwYXJrLnNxbC5mdW5jdGlvbnMgaW1wb3J0IGNvbCwgYXZnIGFzIHNwYXJrX2F2Zywgc3VtIGFzIHNwYXJrX3N1bSwgY291bnQsIG1pbiBhcyBzcGFya19taW4KCmJhc2UgPSAiL21udC9teWdvbGQvZjFfc3Rhcl9zY2hlbWFfYW5hbHl0aWNzIgphZ2dfYXZnX3F1YWxpZnkgPSAoCiAgICBzcGFyay5yZWFkLmZvcm1hdCgiZGVsdGEiKS5sb2FkKGYie2dvbGRfcGF0aH0vZGltX3F1YWxpZnlpbmciKQogICAgICAuZ3JvdXBCeSgiZHJpdmVyX0lEIikKICAgICAgLmFnZyhzcGFya19hdmcoInF1YWxpZnlfUG9zaXRpb24iKS5hbGlhcygiYXZnX3F1YWxpZnlfcG9zIikpCiAgICAgIC5qb2luKHNwYXJrLnJlYWQuZm9ybWF0KCJkZWx0YSIpLmxvYWQoZiJ7Z29sZF9wYXRofS9kaW1fZHJpdmVyIiksICJkcml2ZXJfSUQiKQopCmFnZ19hdmdfcXVhbGlmeS53cml0ZS5mb3JtYXQoImRlbHRhIikubW9kZSgib3ZlcndyaXRlIikuc2F2ZShmIntiYXNlfS9hZ2dfYXZnX3F1YWxpZnlfcGVyX2RyaXZlciIpCmRpc3BsYXkoYWdnX2F2Z19xdWFsaWZ5KQo=\").decode())\n\ntry:\n    # run user code\n    __backend_agg_user_code_fn()\n\n    #reset display function\n    display = __backend_agg_display_orig\n\n    if len(__backend_agg_dfs) > 0:\n        # create a temp view\n        if type(__backend_agg_dfs[0]).__module__ == \"databricks.koalas.frame\":\n            # koalas dataframe\n            __backend_agg_dfs[0].to_spark().createOrReplaceTempView(\"DatabricksView4f044c2\")\n        elif type(__backend_agg_dfs[0]).__module__ == \"pandas.core.frame\" or isinstance(__backend_agg_dfs[0], list):\n            # pandas dataframe\n            spark.createDataFrame(__backend_agg_dfs[0]).createOrReplaceTempView(\"DatabricksView4f044c2\")\n        else:\n            __backend_agg_dfs[0].createOrReplaceTempView(\"DatabricksView4f044c2\")\n        #run backend agg\n        display(spark.sql(\"\"\"WITH q AS (select * from DatabricksView4f044c2) SELECT `driver_ID`,SUM(`avg_qualify_pos`) `column_1ea95d9084` FROM q GROUP BY `driver_ID`\"\"\"))\n    else:\n        displayHTML(\"dataframe no longer exists. If you're using dataframe.display(), use display(dataframe) instead.\")\n\n\nfinally:\n    spark.sql(\"drop view if exists DatabricksView4f044c2\")\n    display = __backend_agg_display_orig\n    del __backend_agg_display_new\n    del __backend_agg_display_orig\n    del __backend_agg_dfs\n    del __backend_agg_user_code_fn\n\n",
       "commandTitle": "Visualization 3",
       "commandType": "auto",
       "commandVersion": 0,
       "commentThread": [],
       "commentsVisible": false,
       "contentSha256Hex": null,
       "customPlotOptions": {
        "redashChart": [
         {
          "key": "type",
          "value": "CHART"
         },
         {
          "key": "options",
          "value": {
           "alignYAxesAtZero": true,
           "coefficient": 1,
           "columnConfigurationMap": {
            "x": {
             "column": "driver_ID",
             "id": "column_1ea95d9082"
            },
            "y": [
             {
              "column": "avg_qualify_pos",
              "id": "column_1ea95d9084",
              "transform": "SUM"
             }
            ]
           },
           "dateTimeFormat": "DD/MM/YYYY HH:mm",
           "direction": {
            "type": "clockwise"
           },
           "error_y": {
            "type": "data",
            "visible": true
           },
           "globalSeriesType": "pie",
           "isAggregationOn": true,
           "legend": {
            "traceorder": "normal"
           },
           "missingValuesAsZero": true,
           "numberFormat": "0,0.[00000]",
           "percentFormat": "0[.]00%",
           "series": {
            "error_y": {
             "type": "data",
             "visible": true
            },
            "stacking": null
           },
           "seriesOptions": {
            "column_1ea95d9084": {
             "type": "pie",
             "yAxis": 0
            }
           },
           "showDataLabels": true,
           "sizemode": "diameter",
           "sortX": true,
           "sortY": true,
           "swappedAxes": false,
           "textFormat": "",
           "useAggregationsUi": true,
           "valuesOptions": {},
           "version": 2,
           "xAxis": {
            "labels": {
             "enabled": true
            },
            "type": "-"
           },
           "yAxis": [
            {
             "type": "-"
            },
            {
             "opposite": true,
             "type": "-"
            }
           ]
          }
         }
        ]
       },
       "datasetPreviewNameToCmdIdMap": {},
       "diffDeletes": [],
       "diffInserts": [],
       "displayType": "redashChart",
       "error": null,
       "errorDetails": null,
       "errorSummary": null,
       "errorTraceType": null,
       "finishTime": 0,
       "globalVars": {},
       "guid": "",
       "height": "auto",
       "hideCommandCode": false,
       "hideCommandResult": false,
       "iPythonMetadata": null,
       "inputWidgets": {},
       "isLockedInExamMode": false,
       "latestUser": "a user",
       "latestUserId": null,
       "listResultMetadata": null,
       "metadata": {},
       "nuid": "c23e398b-dfb3-4654-ae58-a2c3e9f2b751",
       "origId": 0,
       "parentHierarchy": [],
       "pivotAggregation": null,
       "pivotColumns": null,
       "position": 27.0,
       "resultDbfsErrorMessage": null,
       "resultDbfsStatus": "INLINED_IN_TREE",
       "results": null,
       "showCommandTitle": false,
       "startTime": 0,
       "state": "input",
       "streamStates": {},
       "subcommandOptions": {
        "queryPlan": {
         "groups": [
          {
           "column": "driver_ID",
           "type": "column"
          }
         ],
         "selects": [
          {
           "column": "driver_ID",
           "type": "column"
          },
          {
           "alias": "column_1ea95d9084",
           "args": [
            {
             "column": "avg_qualify_pos",
             "type": "column"
            }
           ],
           "function": "SUM",
           "type": "function"
          }
         ]
        }
       },
       "submitTime": 0,
       "subtype": "tableResultSubCmd.visualization",
       "tableResultIndex": 0,
       "tableResultSettingsMap": {},
       "useConsistentColors": false,
       "version": "CommandV1",
       "width": "auto",
       "workflows": null,
       "xColumns": null,
       "yColumns": null
      }
     },
     "output_type": "display_data"
    }
   ],
   "source": [
    "from pyspark.sql.functions import col, avg as spark_avg, sum as spark_sum, count, min as spark_min\n",
    "\n",
    "base = \"/mnt/mygold/f1_star_schema_analytics\"\n",
    "agg_avg_qualify = (\n",
    "    spark.read.format(\"delta\").load(f\"{gold_path}/dim_qualifying\")\n",
    "      .groupBy(\"driver_ID\")\n",
    "      .agg(spark_avg(\"qualify_Position\").alias(\"avg_qualify_pos\"))\n",
    "      .join(spark.read.format(\"delta\").load(f\"{gold_path}/dim_driver\"), \"driver_ID\")\n",
    ")\n",
    "agg_avg_qualify.write.format(\"delta\").mode(\"overwrite\").save(f\"{base}/agg_avg_qualify_per_driver\")\n",
    "display(agg_avg_qualify)\n"
   ]
  },
  {
   "cell_type": "markdown",
   "metadata": {
    "application/vnd.databricks.v1+cell": {
     "cellMetadata": {},
     "inputWidgets": {},
     "nuid": "1c978ce1-7e1d-479b-83aa-c6ace15d8788",
     "showTitle": false,
     "tableResultSettingsMap": {},
     "title": ""
    }
   },
   "source": [
    "### 1.4 Races per Season"
   ]
  },
  {
   "cell_type": "code",
   "execution_count": 0,
   "metadata": {
    "application/vnd.databricks.v1+cell": {
     "cellMetadata": {
      "byteLimit": 2048000,
      "rowLimit": 10000
     },
     "inputWidgets": {},
     "nuid": "3617763f-4d7d-4ebd-98a0-d773a8165b42",
     "showTitle": false,
     "tableResultSettingsMap": {},
     "title": ""
    }
   },
   "outputs": [
    {
     "output_type": "display_data",
     "data": {
      "text/plain": [
       "Databricks visualization. Run in Databricks to view."
      ]
     },
     "metadata": {
      "application/vnd.databricks.v1.subcommand+json": {
       "baseErrorDetails": null,
       "bindings": {},
       "collapsed": false,
       "command": "%python\n__backend_agg_display_orig = display\n__backend_agg_dfs = []\ndef __backend_agg_display_new(df):\n    __backend_agg_df_modules = [\"pandas.core.frame\", \"databricks.koalas.frame\", \"pyspark.sql.dataframe\", \"pyspark.pandas.frame\", \"pyspark.sql.connect.dataframe\"]\n    if (type(df).__module__ in __backend_agg_df_modules and type(df).__name__ == 'DataFrame') or isinstance(df, list):\n        __backend_agg_dfs.append(df)\n\ndisplay = __backend_agg_display_new\n\ndef __backend_agg_user_code_fn():\n    import base64\n    exec(base64.standard_b64decode(\"ZnJvbSBweXNwYXJrLnNxbC5mdW5jdGlvbnMgaW1wb3J0IGNvbCwgYXZnIGFzIHNwYXJrX2F2Zywgc3VtIGFzIHNwYXJrX3N1bSwgY291bnQsIG1pbiBhcyBzcGFya19taW4KCmJhc2UgPSAiL21udC9teWdvbGQvZjFfc3Rhcl9zY2hlbWFfYW5hbHl0aWNzIgphZ2dfcmFjZXNfcGVyX3NlYXNvbiA9ICgKICAgIHNwYXJrLnJlYWQuZm9ybWF0KCJkZWx0YSIpLmxvYWQoZiJ7Z29sZF9wYXRofS9mYWN0X3JhY2VfcmVzdWx0cyIpCiAgICAgIC5ncm91cEJ5KCJzZWFzb24iKQogICAgICAuYWdnKGNvdW50KCIqIikuYWxpYXMoInJhY2VzX2NvdW50IikpCikKYWdnX3JhY2VzX3Blcl9zZWFzb24ud3JpdGUuZm9ybWF0KCJkZWx0YSIpLm1vZGUoIm92ZXJ3cml0ZSIpLnNhdmUoZiJ7YmFzZX0vYWdnX3JhY2VzX3Blcl9zZWFzb24iKQpkaXNwbGF5KGFnZ19yYWNlc19wZXJfc2Vhc29uKQ==\").decode())\n\ntry:\n    # run user code\n    __backend_agg_user_code_fn()\n\n    #reset display function\n    display = __backend_agg_display_orig\n\n    if len(__backend_agg_dfs) > 0:\n        # create a temp view\n        if type(__backend_agg_dfs[0]).__module__ == \"databricks.koalas.frame\":\n            # koalas dataframe\n            __backend_agg_dfs[0].to_spark().createOrReplaceTempView(\"DatabricksView3edd150\")\n        elif type(__backend_agg_dfs[0]).__module__ == \"pandas.core.frame\" or isinstance(__backend_agg_dfs[0], list):\n            # pandas dataframe\n            spark.createDataFrame(__backend_agg_dfs[0]).createOrReplaceTempView(\"DatabricksView3edd150\")\n        else:\n            __backend_agg_dfs[0].createOrReplaceTempView(\"DatabricksView3edd150\")\n        #run backend agg\n        display(spark.sql(\"\"\"WITH q AS (select * from DatabricksView3edd150) SELECT `season`,SUM(`races_count`) `column_1ea95d9093` FROM q GROUP BY `season`\"\"\"))\n    else:\n        displayHTML(\"dataframe no longer exists. If you're using dataframe.display(), use display(dataframe) instead.\")\n\n\nfinally:\n    spark.sql(\"drop view if exists DatabricksView3edd150\")\n    display = __backend_agg_display_orig\n    del __backend_agg_display_new\n    del __backend_agg_display_orig\n    del __backend_agg_dfs\n    del __backend_agg_user_code_fn\n\n",
       "commandTitle": "Visualization 1",
       "commandType": "auto",
       "commandVersion": 0,
       "commentThread": [],
       "commentsVisible": false,
       "contentSha256Hex": null,
       "customPlotOptions": {
        "redashChart": [
         {
          "key": "type",
          "value": "CHART"
         },
         {
          "key": "options",
          "value": {
           "alignYAxesAtZero": true,
           "coefficient": 1,
           "columnConfigurationMap": {
            "x": {
             "column": "season",
             "id": "column_1ea95d9092"
            },
            "y": [
             {
              "column": "races_count",
              "id": "column_1ea95d9093",
              "transform": "SUM"
             }
            ]
           },
           "dateTimeFormat": "DD/MM/YYYY HH:mm",
           "direction": {
            "type": "counterclockwise"
           },
           "error_y": {
            "type": "data",
            "visible": true
           },
           "globalSeriesType": "pie",
           "isAggregationOn": true,
           "legend": {
            "traceorder": "normal"
           },
           "missingValuesAsZero": true,
           "numberFormat": "0,0.[00000]",
           "percentFormat": "0[.]00%",
           "series": {
            "error_y": {
             "type": "data",
             "visible": true
            },
            "stacking": null
           },
           "seriesOptions": {
            "column_1ea95d9093": {
             "name": "races_count",
             "type": "pie",
             "yAxis": 0
            }
           },
           "showDataLabels": true,
           "sizemode": "diameter",
           "sortX": true,
           "sortY": true,
           "swappedAxes": false,
           "textFormat": "",
           "useAggregationsUi": true,
           "valuesOptions": {},
           "version": 2,
           "xAxis": {
            "labels": {
             "enabled": true
            },
            "type": "-"
           },
           "yAxis": [
            {
             "type": "-"
            },
            {
             "opposite": true,
             "type": "-"
            }
           ]
          }
         }
        ]
       },
       "datasetPreviewNameToCmdIdMap": {},
       "diffDeletes": [],
       "diffInserts": [],
       "displayType": "redashChart",
       "error": null,
       "errorDetails": null,
       "errorSummary": null,
       "errorTraceType": null,
       "finishTime": 0,
       "globalVars": {},
       "guid": "",
       "height": "auto",
       "hideCommandCode": false,
       "hideCommandResult": false,
       "iPythonMetadata": null,
       "inputWidgets": {},
       "isLockedInExamMode": false,
       "latestUser": "a user",
       "latestUserId": null,
       "listResultMetadata": null,
       "metadata": {},
       "nuid": "4d373a1a-7d93-4d35-875b-c7e1c3d74e67",
       "origId": 0,
       "parentHierarchy": [],
       "pivotAggregation": null,
       "pivotColumns": null,
       "position": 27.0,
       "resultDbfsErrorMessage": null,
       "resultDbfsStatus": "INLINED_IN_TREE",
       "results": null,
       "showCommandTitle": false,
       "startTime": 0,
       "state": "input",
       "streamStates": {},
       "subcommandOptions": {
        "queryPlan": {
         "groups": [
          {
           "column": "season",
           "type": "column"
          }
         ],
         "selects": [
          {
           "column": "season",
           "type": "column"
          },
          {
           "alias": "column_1ea95d9093",
           "args": [
            {
             "column": "races_count",
             "type": "column"
            }
           ],
           "function": "SUM",
           "type": "function"
          }
         ]
        }
       },
       "submitTime": 0,
       "subtype": "tableResultSubCmd.visualization",
       "tableResultIndex": 0,
       "tableResultSettingsMap": {},
       "useConsistentColors": false,
       "version": "CommandV1",
       "width": "auto",
       "workflows": null,
       "xColumns": null,
       "yColumns": null
      }
     },
     "output_type": "display_data"
    },
    {
     "output_type": "display_data",
     "data": {
      "text/plain": [
       "Databricks visualization. Run in Databricks to view."
      ]
     },
     "metadata": {
      "application/vnd.databricks.v1.subcommand+json": {
       "baseErrorDetails": null,
       "bindings": {},
       "collapsed": false,
       "command": "%python\n__backend_agg_display_orig = display\n__backend_agg_dfs = []\ndef __backend_agg_display_new(df):\n    __backend_agg_df_modules = [\"pandas.core.frame\", \"databricks.koalas.frame\", \"pyspark.sql.dataframe\", \"pyspark.pandas.frame\", \"pyspark.sql.connect.dataframe\"]\n    if (type(df).__module__ in __backend_agg_df_modules and type(df).__name__ == 'DataFrame') or isinstance(df, list):\n        __backend_agg_dfs.append(df)\n\ndisplay = __backend_agg_display_new\n\ndef __backend_agg_user_code_fn():\n    import base64\n    exec(base64.standard_b64decode(\"ZnJvbSBweXNwYXJrLnNxbC5mdW5jdGlvbnMgaW1wb3J0IGNvbCwgYXZnIGFzIHNwYXJrX2F2Zywgc3VtIGFzIHNwYXJrX3N1bSwgY291bnQsIG1pbiBhcyBzcGFya19taW4KCmJhc2UgPSAiL21udC9teWdvbGQvZjFfc3Rhcl9zY2hlbWFfYW5hbHl0aWNzIgphZ2dfcmFjZXNfcGVyX3NlYXNvbiA9ICgKICAgIHNwYXJrLnJlYWQuZm9ybWF0KCJkZWx0YSIpLmxvYWQoZiJ7Z29sZF9wYXRofS9mYWN0X3JhY2VfcmVzdWx0cyIpCiAgICAgIC5ncm91cEJ5KCJzZWFzb24iKQogICAgICAuYWdnKGNvdW50KCIqIikuYWxpYXMoInJhY2VzX2NvdW50IikpCikKYWdnX3JhY2VzX3Blcl9zZWFzb24ud3JpdGUuZm9ybWF0KCJkZWx0YSIpLm1vZGUoIm92ZXJ3cml0ZSIpLnNhdmUoZiJ7YmFzZX0vYWdnX3JhY2VzX3Blcl9zZWFzb24iKQpkaXNwbGF5KGFnZ19yYWNlc19wZXJfc2Vhc29uKQ==\").decode())\n\ntry:\n    # run user code\n    __backend_agg_user_code_fn()\n\n    #reset display function\n    display = __backend_agg_display_orig\n\n    if len(__backend_agg_dfs) > 0:\n        # create a temp view\n        if type(__backend_agg_dfs[0]).__module__ == \"databricks.koalas.frame\":\n            # koalas dataframe\n            __backend_agg_dfs[0].to_spark().createOrReplaceTempView(\"DatabricksView27c36e5\")\n        elif type(__backend_agg_dfs[0]).__module__ == \"pandas.core.frame\" or isinstance(__backend_agg_dfs[0], list):\n            # pandas dataframe\n            spark.createDataFrame(__backend_agg_dfs[0]).createOrReplaceTempView(\"DatabricksView27c36e5\")\n        else:\n            __backend_agg_dfs[0].createOrReplaceTempView(\"DatabricksView27c36e5\")\n        #run backend agg\n        display(spark.sql(\"\"\"WITH q AS (select * from DatabricksView27c36e5) SELECT `season`,SUM(`races_count`) `column_1ea95d9098`,`season` FROM q GROUP BY `season`\"\"\"))\n    else:\n        displayHTML(\"dataframe no longer exists. If you're using dataframe.display(), use display(dataframe) instead.\")\n\n\nfinally:\n    spark.sql(\"drop view if exists DatabricksView27c36e5\")\n    display = __backend_agg_display_orig\n    del __backend_agg_display_new\n    del __backend_agg_display_orig\n    del __backend_agg_dfs\n    del __backend_agg_user_code_fn\n\n",
       "commandTitle": "Visualization 2",
       "commandType": "auto",
       "commandVersion": 0,
       "commentThread": [],
       "commentsVisible": false,
       "contentSha256Hex": null,
       "customPlotOptions": {
        "redashChart": [
         {
          "key": "type",
          "value": "CHART"
         },
         {
          "key": "options",
          "value": {
           "alignYAxesAtZero": true,
           "coefficient": 1,
           "columnConfigurationMap": {
            "series": {
             "column": "season",
             "id": "column_1ea95d90100"
            },
            "x": {
             "column": "season",
             "id": "column_1ea95d9097"
            },
            "y": [
             {
              "column": "races_count",
              "id": "column_1ea95d9098",
              "transform": "SUM"
             }
            ]
           },
           "dateTimeFormat": "DD/MM/YYYY HH:mm",
           "direction": {
            "type": "counterclockwise"
           },
           "error_y": {
            "type": "data",
            "visible": true
           },
           "globalSeriesType": "column",
           "isAggregationOn": true,
           "legend": {
            "traceorder": "normal"
           },
           "missingValuesAsZero": true,
           "numberFormat": "0,0.[00000]",
           "percentFormat": "0[.]00%",
           "series": {
            "error_y": {
             "type": "data",
             "visible": true
            },
            "stacking": null
           },
           "seriesOptions": {
            "column_1ea95d9098": {
             "name": "races_count",
             "yAxis": 0
            }
           },
           "showDataLabels": false,
           "sizemode": "diameter",
           "sortX": true,
           "sortY": true,
           "swappedAxes": true,
           "textFormat": "",
           "useAggregationsUi": true,
           "valuesOptions": {},
           "version": 2,
           "xAxis": {
            "labels": {
             "enabled": true
            },
            "type": "-"
           },
           "yAxis": [
            {
             "type": "-"
            },
            {
             "opposite": true,
             "type": "-"
            }
           ]
          }
         }
        ]
       },
       "datasetPreviewNameToCmdIdMap": {},
       "diffDeletes": [],
       "diffInserts": [],
       "displayType": "redashChart",
       "error": null,
       "errorDetails": null,
       "errorSummary": null,
       "errorTraceType": null,
       "finishTime": 0,
       "globalVars": {},
       "guid": "",
       "height": "auto",
       "hideCommandCode": false,
       "hideCommandResult": false,
       "iPythonMetadata": null,
       "inputWidgets": {},
       "isLockedInExamMode": false,
       "latestUser": "a user",
       "latestUserId": null,
       "listResultMetadata": null,
       "metadata": {},
       "nuid": "0e591d1d-12e2-43df-92e0-3da5791801ba",
       "origId": 0,
       "parentHierarchy": [],
       "pivotAggregation": null,
       "pivotColumns": null,
       "position": 28.0,
       "resultDbfsErrorMessage": null,
       "resultDbfsStatus": "INLINED_IN_TREE",
       "results": null,
       "showCommandTitle": false,
       "startTime": 0,
       "state": "input",
       "streamStates": {},
       "subcommandOptions": {
        "queryPlan": {
         "groups": [
          {
           "column": "season",
           "type": "column"
          },
          {
           "column": "season",
           "type": "column"
          }
         ],
         "selects": [
          {
           "column": "season",
           "type": "column"
          },
          {
           "alias": "column_1ea95d9098",
           "args": [
            {
             "column": "races_count",
             "type": "column"
            }
           ],
           "function": "SUM",
           "type": "function"
          },
          {
           "column": "season",
           "type": "column"
          }
         ]
        }
       },
       "submitTime": 0,
       "subtype": "tableResultSubCmd.visualization",
       "tableResultIndex": 0,
       "tableResultSettingsMap": {},
       "useConsistentColors": false,
       "version": "CommandV1",
       "width": "auto",
       "workflows": null,
       "xColumns": null,
       "yColumns": null
      }
     },
     "output_type": "display_data"
    }
   ],
   "source": [
    "from pyspark.sql.functions import col, avg as spark_avg, sum as spark_sum, count, min as spark_min\n",
    "\n",
    "base = \"/mnt/mygold/f1_star_schema_analytics\"\n",
    "agg_races_per_season = (\n",
    "    spark.read.format(\"delta\").load(f\"{gold_path}/fact_race_results\")\n",
    "      .groupBy(\"season\")\n",
    "      .agg(count(\"*\").alias(\"races_count\"))\n",
    ")\n",
    "agg_races_per_season.write.format(\"delta\").mode(\"overwrite\").save(f\"{base}/agg_races_per_season\")\n",
    "display(agg_races_per_season)"
   ]
  },
  {
   "cell_type": "markdown",
   "metadata": {
    "application/vnd.databricks.v1+cell": {
     "cellMetadata": {},
     "inputWidgets": {},
     "nuid": "e2213ae6-d214-4273-a0ed-2c825e30440d",
     "showTitle": false,
     "tableResultSettingsMap": {},
     "title": ""
    }
   },
   "source": [
    "### 2. KPIs\n",
    "### 2.1 Top Driver Win Rate"
   ]
  },
  {
   "cell_type": "code",
   "execution_count": 0,
   "metadata": {
    "application/vnd.databricks.v1+cell": {
     "cellMetadata": {
      "byteLimit": 2048000,
      "rowLimit": 10000
     },
     "inputWidgets": {},
     "nuid": "92df63c2-e8b1-4c5d-928c-57a09ad29940",
     "showTitle": false,
     "tableResultSettingsMap": {},
     "title": ""
    }
   },
   "outputs": [
    {
     "output_type": "display_data",
     "data": {
      "text/plain": [
       "Databricks visualization. Run in Databricks to view."
      ]
     },
     "metadata": {
      "application/vnd.databricks.v1.subcommand+json": {
       "baseErrorDetails": null,
       "bindings": {},
       "collapsed": false,
       "command": "%python\n__backend_agg_display_orig = display\n__backend_agg_dfs = []\ndef __backend_agg_display_new(df):\n    __backend_agg_df_modules = [\"pandas.core.frame\", \"databricks.koalas.frame\", \"pyspark.sql.dataframe\", \"pyspark.pandas.frame\", \"pyspark.sql.connect.dataframe\"]\n    if (type(df).__module__ in __backend_agg_df_modules and type(df).__name__ == 'DataFrame') or isinstance(df, list):\n        __backend_agg_dfs.append(df)\n\ndisplay = __backend_agg_display_new\n\ndef __backend_agg_user_code_fn():\n    import base64\n    exec(base64.standard_b64decode(\"ZnJvbSBweXNwYXJrLnNxbC5mdW5jdGlvbnMgaW1wb3J0IGNvbCwgYXZnIGFzIHNwYXJrX2F2Zywgc3VtIGFzIHNwYXJrX3N1bSwgY291bnQsIG1pbiBhcyBzcGFya19taW4KCmJhc2UgPSAiL21udC9teWdvbGQvZjFfc3Rhcl9zY2hlbWFfYW5hbHl0aWNzIgprcGlfd2luX3JhdGUgPSAoCiAgICBzcGFyay5yZWFkLmZvcm1hdCgiZGVsdGEiKS5sb2FkKGYie2dvbGRfcGF0aH0vZmFjdF9yYWNlX3Jlc3VsdHMiKQogICAgICAuZ3JvdXBCeSgiZHJpdmVyX0lEIikKICAgICAgLmFnZygKICAgICAgICAgKHNwYXJrX3N1bSgoY29sKCJwb3NpdGlvbiIpPT0xKS5jYXN0KCJpbnQiKSkgLyBjb3VudCgiKiIpKQogICAgICAgICAuYWxpYXMoIndpbl9yYXRlIikKICAgICAgKQogICAgICAuam9pbihzcGFyay5yZWFkLmZvcm1hdCgiZGVsdGEiKS5sb2FkKGYie2dvbGRfcGF0aH0vZGltX2RyaXZlciIpLCAiZHJpdmVyX0lEIikKKQprcGlfd2luX3JhdGUud3JpdGUuZm9ybWF0KCJkZWx0YSIpLm1vZGUoIm92ZXJ3cml0ZSIpLnNhdmUoZiJ7YmFzZX0va3BpX3dpbl9yYXRlIikKZGlzcGxheShrcGlfd2luX3JhdGUp\").decode())\n\ntry:\n    # run user code\n    __backend_agg_user_code_fn()\n\n    #reset display function\n    display = __backend_agg_display_orig\n\n    if len(__backend_agg_dfs) > 0:\n        # create a temp view\n        if type(__backend_agg_dfs[0]).__module__ == \"databricks.koalas.frame\":\n            # koalas dataframe\n            __backend_agg_dfs[0].to_spark().createOrReplaceTempView(\"DatabricksViewadfa343\")\n        elif type(__backend_agg_dfs[0]).__module__ == \"pandas.core.frame\" or isinstance(__backend_agg_dfs[0], list):\n            # pandas dataframe\n            spark.createDataFrame(__backend_agg_dfs[0]).createOrReplaceTempView(\"DatabricksViewadfa343\")\n        else:\n            __backend_agg_dfs[0].createOrReplaceTempView(\"DatabricksViewadfa343\")\n        #run backend agg\n        display(spark.sql(\"\"\"WITH q AS (select * from DatabricksViewadfa343) SELECT `driver_ID`,SUM(`win_rate`) `column_1ea95d90113` FROM q GROUP BY `driver_ID`\"\"\"))\n    else:\n        displayHTML(\"dataframe no longer exists. If you're using dataframe.display(), use display(dataframe) instead.\")\n\n\nfinally:\n    spark.sql(\"drop view if exists DatabricksViewadfa343\")\n    display = __backend_agg_display_orig\n    del __backend_agg_display_new\n    del __backend_agg_display_orig\n    del __backend_agg_dfs\n    del __backend_agg_user_code_fn\n\n",
       "commandTitle": "Visualization 1",
       "commandType": "auto",
       "commandVersion": 0,
       "commentThread": [],
       "commentsVisible": false,
       "contentSha256Hex": null,
       "customPlotOptions": {
        "redashChart": [
         {
          "key": "type",
          "value": "CHART"
         },
         {
          "key": "options",
          "value": {
           "alignYAxesAtZero": true,
           "coefficient": 1,
           "columnConfigurationMap": {
            "x": {
             "column": "driver_ID",
             "id": "column_1ea95d90120"
            },
            "y": [
             {
              "column": "win_rate",
              "id": "column_1ea95d90113",
              "transform": "SUM"
             }
            ]
           },
           "dateTimeFormat": "YYYY-MM-DD HH:mm",
           "direction": {
            "type": "counterclockwise"
           },
           "error_y": {
            "type": "data",
            "visible": true
           },
           "globalSeriesType": "line",
           "isAggregationOn": true,
           "legend": {
            "traceorder": "normal"
           },
           "missingValuesAsZero": true,
           "numberFormat": "0,0.[00000]",
           "percentFormat": "0[.]00%",
           "series": {
            "error_y": {
             "type": "data",
             "visible": true
            },
            "stacking": null
           },
           "seriesOptions": {
            "column_1ea95d90113": {
             "type": "line",
             "yAxis": 0
            }
           },
           "showDataLabels": false,
           "sizemode": "diameter",
           "sortX": true,
           "sortY": true,
           "swappedAxes": false,
           "textFormat": "",
           "useAggregationsUi": true,
           "valuesOptions": {},
           "version": 2,
           "xAxis": {
            "labels": {
             "enabled": true
            },
            "type": "-"
           },
           "yAxis": [
            {
             "type": "-"
            },
            {
             "opposite": true,
             "type": "-"
            }
           ]
          }
         }
        ]
       },
       "datasetPreviewNameToCmdIdMap": {},
       "diffDeletes": [],
       "diffInserts": [],
       "displayType": "redashChart",
       "error": null,
       "errorDetails": null,
       "errorSummary": null,
       "errorTraceType": null,
       "finishTime": 0,
       "globalVars": {},
       "guid": "",
       "height": "auto",
       "hideCommandCode": false,
       "hideCommandResult": false,
       "iPythonMetadata": null,
       "inputWidgets": {},
       "isLockedInExamMode": false,
       "latestUser": "a user",
       "latestUserId": null,
       "listResultMetadata": null,
       "metadata": {},
       "nuid": "58aaec3b-b783-48a5-9dac-91d46ad93f7c",
       "origId": 0,
       "parentHierarchy": [],
       "pivotAggregation": null,
       "pivotColumns": null,
       "position": 29.0,
       "resultDbfsErrorMessage": null,
       "resultDbfsStatus": "INLINED_IN_TREE",
       "results": null,
       "showCommandTitle": false,
       "startTime": 0,
       "state": "input",
       "streamStates": {},
       "subcommandOptions": {
        "queryPlan": {
         "groups": [
          {
           "column": "driver_ID",
           "type": "column"
          }
         ],
         "selects": [
          {
           "column": "driver_ID",
           "type": "column"
          },
          {
           "alias": "column_1ea95d90113",
           "args": [
            {
             "column": "win_rate",
             "type": "column"
            }
           ],
           "function": "SUM",
           "type": "function"
          }
         ]
        }
       },
       "submitTime": 0,
       "subtype": "tableResultSubCmd.visualization",
       "tableResultIndex": 0,
       "tableResultSettingsMap": {},
       "useConsistentColors": false,
       "version": "CommandV1",
       "width": "auto",
       "workflows": null,
       "xColumns": null,
       "yColumns": null
      }
     },
     "output_type": "display_data"
    }
   ],
   "source": [
    "from pyspark.sql.functions import col, avg as spark_avg, sum as spark_sum, count, min as spark_min\n",
    "\n",
    "base = \"/mnt/mygold/f1_star_schema_analytics\"\n",
    "kpi_win_rate = (\n",
    "    spark.read.format(\"delta\").load(f\"{gold_path}/fact_race_results\")\n",
    "      .groupBy(\"driver_ID\")\n",
    "      .agg(\n",
    "         (spark_sum((col(\"position\")==1).cast(\"int\")) / count(\"*\"))\n",
    "         .alias(\"win_rate\")\n",
    "      )\n",
    "      .join(spark.read.format(\"delta\").load(f\"{gold_path}/dim_driver\"), \"driver_ID\")\n",
    ")\n",
    "kpi_win_rate.write.format(\"delta\").mode(\"overwrite\").save(f\"{base}/kpi_win_rate\")\n",
    "display(kpi_win_rate)"
   ]
  },
  {
   "cell_type": "markdown",
   "metadata": {
    "application/vnd.databricks.v1+cell": {
     "cellMetadata": {},
     "inputWidgets": {},
     "nuid": "8169a220-2cb1-47e7-88a4-0e3651d952ce",
     "showTitle": false,
     "tableResultSettingsMap": {},
     "title": ""
    }
   },
   "source": [
    "### 2.2 Circuit Avg Finish Time"
   ]
  },
  {
   "cell_type": "code",
   "execution_count": 0,
   "metadata": {
    "application/vnd.databricks.v1+cell": {
     "cellMetadata": {
      "byteLimit": 2048000,
      "rowLimit": 10000
     },
     "inputWidgets": {},
     "nuid": "8449f070-40c4-4f4d-9243-5b9670095962",
     "showTitle": false,
     "tableResultSettingsMap": {},
     "title": ""
    }
   },
   "outputs": [
    {
     "output_type": "display_data",
     "data": {
      "text/plain": [
       "Databricks visualization. Run in Databricks to view."
      ]
     },
     "metadata": {
      "application/vnd.databricks.v1.subcommand+json": {
       "baseErrorDetails": null,
       "bindings": {},
       "collapsed": false,
       "command": "%python\n__backend_agg_display_orig = display\n__backend_agg_dfs = []\ndef __backend_agg_display_new(df):\n    __backend_agg_df_modules = [\"pandas.core.frame\", \"databricks.koalas.frame\", \"pyspark.sql.dataframe\", \"pyspark.pandas.frame\", \"pyspark.sql.connect.dataframe\"]\n    if (type(df).__module__ in __backend_agg_df_modules and type(df).__name__ == 'DataFrame') or isinstance(df, list):\n        __backend_agg_dfs.append(df)\n\ndisplay = __backend_agg_display_new\n\ndef __backend_agg_user_code_fn():\n    import base64\n    exec(base64.standard_b64decode(\"ZnJvbSBweXNwYXJrLnNxbC5mdW5jdGlvbnMgaW1wb3J0IGNvbCwgYXZnIGFzIHNwYXJrX2F2Zywgc3VtIGFzIHNwYXJrX3N1bSwgY291bnQsIG1pbiBhcyBzcGFya19taW4KCmJhc2UgPSAiL21udC9teWdvbGQvZjFfc3Rhcl9zY2hlbWFfYW5hbHl0aWNzIgprcGlfY2lyY3VpdF90aW1lID0gKAogICAgc3BhcmsucmVhZC5mb3JtYXQoImRlbHRhIikubG9hZChmIntnb2xkX3BhdGh9L2ZhY3RfcmFjZV9yZXN1bHRzIikKICAgICAgLmdyb3VwQnkoImNpcmN1aXRfSUQiKQogICAgICAuYWdnKHNwYXJrX2F2ZygidGltZSIpLmFsaWFzKCJhdmdfZmluaXNoX3RpbWUiKSkKICAgICAgLmpvaW4oc3BhcmsucmVhZC5mb3JtYXQoImRlbHRhIikubG9hZChmIntnb2xkX3BhdGh9L2RpbV9jaXJjdWl0IiksICJjaXJjdWl0X0lEIikKKQprcGlfY2lyY3VpdF90aW1lLndyaXRlLmZvcm1hdCgiZGVsdGEiKS5tb2RlKCJvdmVyd3JpdGUiKS5zYXZlKGYie2Jhc2V9L2twaV9jaXJjdWl0X2F2Z19maW5pc2hfdGltZSIpCmRpc3BsYXkoa3BpX2NpcmN1aXRfdGltZSk=\").decode())\n\ntry:\n    # run user code\n    __backend_agg_user_code_fn()\n\n    #reset display function\n    display = __backend_agg_display_orig\n\n    if len(__backend_agg_dfs) > 0:\n        # create a temp view\n        if type(__backend_agg_dfs[0]).__module__ == \"databricks.koalas.frame\":\n            # koalas dataframe\n            __backend_agg_dfs[0].to_spark().createOrReplaceTempView(\"DatabricksViewd6f639d\")\n        elif type(__backend_agg_dfs[0]).__module__ == \"pandas.core.frame\" or isinstance(__backend_agg_dfs[0], list):\n            # pandas dataframe\n            spark.createDataFrame(__backend_agg_dfs[0]).createOrReplaceTempView(\"DatabricksViewd6f639d\")\n        else:\n            __backend_agg_dfs[0].createOrReplaceTempView(\"DatabricksViewd6f639d\")\n        #run backend agg\n        display(spark.sql(\"\"\"WITH q AS (select * from DatabricksViewd6f639d) SELECT `circuit_ID`,SUM(`avg_finish_time`) `column_1ea95d90142`,`circuit_ID` FROM q GROUP BY `circuit_ID`\"\"\"))\n    else:\n        displayHTML(\"dataframe no longer exists. If you're using dataframe.display(), use display(dataframe) instead.\")\n\n\nfinally:\n    spark.sql(\"drop view if exists DatabricksViewd6f639d\")\n    display = __backend_agg_display_orig\n    del __backend_agg_display_new\n    del __backend_agg_display_orig\n    del __backend_agg_dfs\n    del __backend_agg_user_code_fn\n\n",
       "commandTitle": "Visualization 1",
       "commandType": "auto",
       "commandVersion": 0,
       "commentThread": [],
       "commentsVisible": false,
       "contentSha256Hex": null,
       "customPlotOptions": {
        "redashChart": [
         {
          "key": "type",
          "value": "CHART"
         },
         {
          "key": "options",
          "value": {
           "alignYAxesAtZero": true,
           "coefficient": 1,
           "columnConfigurationMap": {
            "series": {
             "column": "circuit_ID",
             "id": "column_1ea95d90144"
            },
            "x": {
             "column": "circuit_ID",
             "id": "column_1ea95d90140"
            },
            "y": [
             {
              "column": "avg_finish_time",
              "id": "column_1ea95d90142",
              "transform": "SUM"
             }
            ]
           },
           "dateTimeFormat": "YYYY-MM-DD HH:mm",
           "direction": {
            "type": "counterclockwise"
           },
           "error_y": {
            "type": "data",
            "visible": true
           },
           "globalSeriesType": "column",
           "isAggregationOn": true,
           "legend": {
            "traceorder": "normal"
           },
           "missingValuesAsZero": true,
           "numberFormat": "0,0.[00000]",
           "percentFormat": "0[.]00%",
           "series": {
            "error_y": {
             "type": "data",
             "visible": true
            },
            "stacking": null
           },
           "seriesOptions": {
            "column_1ea95d90142": {
             "type": "column",
             "yAxis": 0
            }
           },
           "showDataLabels": false,
           "sizemode": "diameter",
           "sortX": true,
           "sortY": true,
           "swappedAxes": false,
           "textFormat": "",
           "useAggregationsUi": true,
           "valuesOptions": {},
           "version": 2,
           "xAxis": {
            "labels": {
             "enabled": true
            },
            "type": "-"
           },
           "yAxis": [
            {
             "type": "-"
            },
            {
             "opposite": true,
             "type": "-"
            }
           ]
          }
         }
        ]
       },
       "datasetPreviewNameToCmdIdMap": {},
       "diffDeletes": [],
       "diffInserts": [],
       "displayType": "redashChart",
       "error": null,
       "errorDetails": null,
       "errorSummary": null,
       "errorTraceType": null,
       "finishTime": 0,
       "globalVars": {},
       "guid": "",
       "height": "auto",
       "hideCommandCode": false,
       "hideCommandResult": false,
       "iPythonMetadata": null,
       "inputWidgets": {},
       "isLockedInExamMode": false,
       "latestUser": "a user",
       "latestUserId": null,
       "listResultMetadata": null,
       "metadata": {},
       "nuid": "bbe06f99-9de1-4fd2-a013-a7c92c95d654",
       "origId": 0,
       "parentHierarchy": [],
       "pivotAggregation": null,
       "pivotColumns": null,
       "position": 31.0,
       "resultDbfsErrorMessage": null,
       "resultDbfsStatus": "INLINED_IN_TREE",
       "results": null,
       "showCommandTitle": false,
       "startTime": 0,
       "state": "input",
       "streamStates": {},
       "subcommandOptions": {
        "queryPlan": {
         "groups": [
          {
           "column": "circuit_ID",
           "type": "column"
          },
          {
           "column": "circuit_ID",
           "type": "column"
          }
         ],
         "selects": [
          {
           "column": "circuit_ID",
           "type": "column"
          },
          {
           "alias": "column_1ea95d90142",
           "args": [
            {
             "column": "avg_finish_time",
             "type": "column"
            }
           ],
           "function": "SUM",
           "type": "function"
          },
          {
           "column": "circuit_ID",
           "type": "column"
          }
         ]
        }
       },
       "submitTime": 0,
       "subtype": "tableResultSubCmd.visualization",
       "tableResultIndex": 0,
       "tableResultSettingsMap": {},
       "useConsistentColors": false,
       "version": "CommandV1",
       "width": "auto",
       "workflows": null,
       "xColumns": null,
       "yColumns": null
      }
     },
     "output_type": "display_data"
    },
    {
     "output_type": "display_data",
     "data": {
      "text/plain": [
       "Databricks visualization. Run in Databricks to view."
      ]
     },
     "metadata": {
      "application/vnd.databricks.v1.subcommand+json": {
       "baseErrorDetails": null,
       "bindings": {},
       "collapsed": false,
       "command": "%python\n__backend_agg_display_orig = display\n__backend_agg_dfs = []\ndef __backend_agg_display_new(df):\n    __backend_agg_df_modules = [\"pandas.core.frame\", \"databricks.koalas.frame\", \"pyspark.sql.dataframe\", \"pyspark.pandas.frame\", \"pyspark.sql.connect.dataframe\"]\n    if (type(df).__module__ in __backend_agg_df_modules and type(df).__name__ == 'DataFrame') or isinstance(df, list):\n        __backend_agg_dfs.append(df)\n\ndisplay = __backend_agg_display_new\n\ndef __backend_agg_user_code_fn():\n    import base64\n    exec(base64.standard_b64decode(\"ZnJvbSBweXNwYXJrLnNxbC5mdW5jdGlvbnMgaW1wb3J0IGNvbCwgYXZnIGFzIHNwYXJrX2F2Zywgc3VtIGFzIHNwYXJrX3N1bSwgY291bnQsIG1pbiBhcyBzcGFya19taW4KCmJhc2UgPSAiL21udC9teWdvbGQvZjFfc3Rhcl9zY2hlbWFfYW5hbHl0aWNzIgprcGlfY2lyY3VpdF90aW1lID0gKAogICAgc3BhcmsucmVhZC5mb3JtYXQoImRlbHRhIikubG9hZChmIntnb2xkX3BhdGh9L2ZhY3RfcmFjZV9yZXN1bHRzIikKICAgICAgLmdyb3VwQnkoImNpcmN1aXRfSUQiKQogICAgICAuYWdnKHNwYXJrX2F2ZygidGltZSIpLmFsaWFzKCJhdmdfZmluaXNoX3RpbWUiKSkKICAgICAgLmpvaW4oc3BhcmsucmVhZC5mb3JtYXQoImRlbHRhIikubG9hZChmIntnb2xkX3BhdGh9L2RpbV9jaXJjdWl0IiksICJjaXJjdWl0X0lEIikKKQprcGlfY2lyY3VpdF90aW1lLndyaXRlLmZvcm1hdCgiZGVsdGEiKS5tb2RlKCJvdmVyd3JpdGUiKS5zYXZlKGYie2Jhc2V9L2twaV9jaXJjdWl0X2F2Z19maW5pc2hfdGltZSIpCmRpc3BsYXkoa3BpX2NpcmN1aXRfdGltZSk=\").decode())\n\ntry:\n    # run user code\n    __backend_agg_user_code_fn()\n\n    #reset display function\n    display = __backend_agg_display_orig\n\n    if len(__backend_agg_dfs) > 0:\n        # create a temp view\n        if type(__backend_agg_dfs[0]).__module__ == \"databricks.koalas.frame\":\n            # koalas dataframe\n            __backend_agg_dfs[0].to_spark().createOrReplaceTempView(\"DatabricksView653b22e\")\n        elif type(__backend_agg_dfs[0]).__module__ == \"pandas.core.frame\" or isinstance(__backend_agg_dfs[0], list):\n            # pandas dataframe\n            spark.createDataFrame(__backend_agg_dfs[0]).createOrReplaceTempView(\"DatabricksView653b22e\")\n        else:\n            __backend_agg_dfs[0].createOrReplaceTempView(\"DatabricksView653b22e\")\n        #run backend agg\n        display(spark.sql(\"\"\"WITH q AS (select * from DatabricksView653b22e) SELECT `circuit_ID`,SUM(`avg_finish_time`) `column_1ea95d90147` FROM q GROUP BY `circuit_ID`\"\"\"))\n    else:\n        displayHTML(\"dataframe no longer exists. If you're using dataframe.display(), use display(dataframe) instead.\")\n\n\nfinally:\n    spark.sql(\"drop view if exists DatabricksView653b22e\")\n    display = __backend_agg_display_orig\n    del __backend_agg_display_new\n    del __backend_agg_display_orig\n    del __backend_agg_dfs\n    del __backend_agg_user_code_fn\n\n",
       "commandTitle": "Visualization 2",
       "commandType": "auto",
       "commandVersion": 0,
       "commentThread": [],
       "commentsVisible": false,
       "contentSha256Hex": null,
       "customPlotOptions": {
        "redashChart": [
         {
          "key": "type",
          "value": "CHART"
         },
         {
          "key": "options",
          "value": {
           "alignYAxesAtZero": true,
           "coefficient": 1,
           "columnConfigurationMap": {
            "x": {
             "column": "circuit_ID",
             "id": "column_1ea95d90145"
            },
            "y": [
             {
              "column": "avg_finish_time",
              "id": "column_1ea95d90147",
              "transform": "SUM"
             }
            ]
           },
           "dateTimeFormat": "YYYY-MM-DD HH:mm",
           "direction": {
            "type": "counterclockwise"
           },
           "error_y": {
            "type": "data",
            "visible": true
           },
           "globalSeriesType": "area",
           "isAggregationOn": true,
           "legend": {
            "traceorder": "normal"
           },
           "missingValuesAsZero": true,
           "numberFormat": "0,0.[00000]",
           "percentFormat": "0[.]00%",
           "series": {
            "error_y": {
             "type": "data",
             "visible": true
            },
            "percentValues": false,
            "stacking": ""
           },
           "seriesOptions": {
            "column_1ea95d90147": {
             "type": "area",
             "yAxis": 0
            }
           },
           "showDataLabels": false,
           "sizemode": "diameter",
           "sortX": true,
           "sortY": true,
           "swappedAxes": false,
           "textFormat": "",
           "useAggregationsUi": true,
           "valuesOptions": {},
           "version": 2,
           "xAxis": {
            "labels": {
             "enabled": true
            },
            "type": "-"
           },
           "yAxis": [
            {
             "type": "-"
            },
            {
             "opposite": true,
             "type": "-"
            }
           ]
          }
         }
        ]
       },
       "datasetPreviewNameToCmdIdMap": {},
       "diffDeletes": [],
       "diffInserts": [],
       "displayType": "redashChart",
       "error": null,
       "errorDetails": null,
       "errorSummary": null,
       "errorTraceType": null,
       "finishTime": 0,
       "globalVars": {},
       "guid": "",
       "height": "auto",
       "hideCommandCode": false,
       "hideCommandResult": false,
       "iPythonMetadata": null,
       "inputWidgets": {},
       "isLockedInExamMode": false,
       "latestUser": "a user",
       "latestUserId": null,
       "listResultMetadata": null,
       "metadata": {},
       "nuid": "f463a1d8-7230-4282-890e-0c83b3613889",
       "origId": 0,
       "parentHierarchy": [],
       "pivotAggregation": null,
       "pivotColumns": null,
       "position": 32.0,
       "resultDbfsErrorMessage": null,
       "resultDbfsStatus": "INLINED_IN_TREE",
       "results": null,
       "showCommandTitle": false,
       "startTime": 0,
       "state": "input",
       "streamStates": {},
       "subcommandOptions": {
        "queryPlan": {
         "groups": [
          {
           "column": "circuit_ID",
           "type": "column"
          }
         ],
         "selects": [
          {
           "column": "circuit_ID",
           "type": "column"
          },
          {
           "alias": "column_1ea95d90147",
           "args": [
            {
             "column": "avg_finish_time",
             "type": "column"
            }
           ],
           "function": "SUM",
           "type": "function"
          }
         ]
        }
       },
       "submitTime": 0,
       "subtype": "tableResultSubCmd.visualization",
       "tableResultIndex": 0,
       "tableResultSettingsMap": {},
       "useConsistentColors": false,
       "version": "CommandV1",
       "width": "auto",
       "workflows": null,
       "xColumns": null,
       "yColumns": null
      }
     },
     "output_type": "display_data"
    },
    {
     "output_type": "display_data",
     "data": {
      "text/plain": [
       "Databricks visualization. Run in Databricks to view."
      ]
     },
     "metadata": {
      "application/vnd.databricks.v1.subcommand+json": {
       "baseErrorDetails": null,
       "bindings": {},
       "collapsed": false,
       "command": "%python\n__backend_agg_display_orig = display\n__backend_agg_dfs = []\ndef __backend_agg_display_new(df):\n    __backend_agg_df_modules = [\"pandas.core.frame\", \"databricks.koalas.frame\", \"pyspark.sql.dataframe\", \"pyspark.pandas.frame\", \"pyspark.sql.connect.dataframe\"]\n    if (type(df).__module__ in __backend_agg_df_modules and type(df).__name__ == 'DataFrame') or isinstance(df, list):\n        __backend_agg_dfs.append(df)\n\ndisplay = __backend_agg_display_new\n\ndef __backend_agg_user_code_fn():\n    import base64\n    exec(base64.standard_b64decode(\"ZnJvbSBweXNwYXJrLnNxbC5mdW5jdGlvbnMgaW1wb3J0IGNvbCwgYXZnIGFzIHNwYXJrX2F2Zywgc3VtIGFzIHNwYXJrX3N1bSwgY291bnQsIG1pbiBhcyBzcGFya19taW4KCmJhc2UgPSAiL21udC9teWdvbGQvZjFfc3Rhcl9zY2hlbWFfYW5hbHl0aWNzIgprcGlfY2lyY3VpdF90aW1lID0gKAogICAgc3BhcmsucmVhZC5mb3JtYXQoImRlbHRhIikubG9hZChmIntnb2xkX3BhdGh9L2ZhY3RfcmFjZV9yZXN1bHRzIikKICAgICAgLmdyb3VwQnkoImNpcmN1aXRfSUQiKQogICAgICAuYWdnKHNwYXJrX2F2ZygidGltZSIpLmFsaWFzKCJhdmdfZmluaXNoX3RpbWUiKSkKICAgICAgLmpvaW4oc3BhcmsucmVhZC5mb3JtYXQoImRlbHRhIikubG9hZChmIntnb2xkX3BhdGh9L2RpbV9jaXJjdWl0IiksICJjaXJjdWl0X0lEIikKKQprcGlfY2lyY3VpdF90aW1lLndyaXRlLmZvcm1hdCgiZGVsdGEiKS5tb2RlKCJvdmVyd3JpdGUiKS5zYXZlKGYie2Jhc2V9L2twaV9jaXJjdWl0X2F2Z19maW5pc2hfdGltZSIpCmRpc3BsYXkoa3BpX2NpcmN1aXRfdGltZSk=\").decode())\n\ntry:\n    # run user code\n    __backend_agg_user_code_fn()\n\n    #reset display function\n    display = __backend_agg_display_orig\n\n    if len(__backend_agg_dfs) > 0:\n        # create a temp view\n        if type(__backend_agg_dfs[0]).__module__ == \"databricks.koalas.frame\":\n            # koalas dataframe\n            __backend_agg_dfs[0].to_spark().createOrReplaceTempView(\"DatabricksViewc7dae71\")\n        elif type(__backend_agg_dfs[0]).__module__ == \"pandas.core.frame\" or isinstance(__backend_agg_dfs[0], list):\n            # pandas dataframe\n            spark.createDataFrame(__backend_agg_dfs[0]).createOrReplaceTempView(\"DatabricksViewc7dae71\")\n        else:\n            __backend_agg_dfs[0].createOrReplaceTempView(\"DatabricksViewc7dae71\")\n        #run backend agg\n        display(spark.sql(\"\"\"WITH q AS (select * from DatabricksViewc7dae71) SELECT `circuit_name`,COUNT(`avg_finish_time`) `column_1ea95d90154` FROM q GROUP BY `circuit_name`\"\"\"))\n    else:\n        displayHTML(\"dataframe no longer exists. If you're using dataframe.display(), use display(dataframe) instead.\")\n\n\nfinally:\n    spark.sql(\"drop view if exists DatabricksViewc7dae71\")\n    display = __backend_agg_display_orig\n    del __backend_agg_display_new\n    del __backend_agg_display_orig\n    del __backend_agg_dfs\n    del __backend_agg_user_code_fn\n\n",
       "commandTitle": "Visualization 3",
       "commandType": "auto",
       "commandVersion": 0,
       "commentThread": [],
       "commentsVisible": false,
       "contentSha256Hex": null,
       "customPlotOptions": {
        "redashChart": [
         {
          "key": "type",
          "value": "CHART"
         },
         {
          "key": "options",
          "value": {
           "alignYAxesAtZero": true,
           "coefficient": 1,
           "columnConfigurationMap": {
            "x": {
             "column": "circuit_name",
             "id": "column_1ea95d90156"
            },
            "y": [
             {
              "column": "avg_finish_time",
              "id": "column_1ea95d90154",
              "transform": "COUNT"
             }
            ]
           },
           "dateTimeFormat": "YYYY-MM-DD HH:mm",
           "direction": {
            "type": "counterclockwise"
           },
           "error_y": {
            "type": "data",
            "visible": true
           },
           "globalSeriesType": "pie",
           "isAggregationOn": true,
           "legend": {
            "traceorder": "normal"
           },
           "missingValuesAsZero": true,
           "numBins": 10,
           "numberFormat": "0,0.[00000]",
           "percentFormat": "0[.]00%",
           "series": {
            "error_y": {
             "type": "data",
             "visible": true
            },
            "stacking": null
           },
           "seriesOptions": {
            "column_1ea95d90154": {
             "type": "pie",
             "yAxis": 0
            }
           },
           "showDataLabels": true,
           "sizemode": "diameter",
           "sortX": true,
           "sortY": true,
           "swappedAxes": false,
           "textFormat": "",
           "useAggregationsUi": true,
           "valuesOptions": {},
           "version": 2,
           "xAxis": {
            "labels": {
             "enabled": true
            },
            "type": "-"
           },
           "yAxis": [
            {
             "type": "-"
            },
            {
             "opposite": true,
             "type": "-"
            }
           ]
          }
         }
        ]
       },
       "datasetPreviewNameToCmdIdMap": {},
       "diffDeletes": [],
       "diffInserts": [],
       "displayType": "redashChart",
       "error": null,
       "errorDetails": null,
       "errorSummary": null,
       "errorTraceType": null,
       "finishTime": 0,
       "globalVars": {},
       "guid": "",
       "height": "auto",
       "hideCommandCode": false,
       "hideCommandResult": false,
       "iPythonMetadata": null,
       "inputWidgets": {},
       "isLockedInExamMode": false,
       "latestUser": "a user",
       "latestUserId": null,
       "listResultMetadata": null,
       "metadata": {},
       "nuid": "cfe9df34-9ad6-48cc-a3b6-ef09523f8718",
       "origId": 0,
       "parentHierarchy": [],
       "pivotAggregation": null,
       "pivotColumns": null,
       "position": 33.0,
       "resultDbfsErrorMessage": null,
       "resultDbfsStatus": "INLINED_IN_TREE",
       "results": null,
       "showCommandTitle": false,
       "startTime": 0,
       "state": "input",
       "streamStates": {},
       "subcommandOptions": {
        "queryPlan": {
         "groups": [
          {
           "column": "circuit_name",
           "type": "column"
          }
         ],
         "selects": [
          {
           "column": "circuit_name",
           "type": "column"
          },
          {
           "alias": "column_1ea95d90154",
           "args": [
            {
             "column": "avg_finish_time",
             "type": "column"
            }
           ],
           "function": "COUNT",
           "type": "function"
          }
         ]
        }
       },
       "submitTime": 0,
       "subtype": "tableResultSubCmd.visualization",
       "tableResultIndex": 0,
       "tableResultSettingsMap": {},
       "useConsistentColors": false,
       "version": "CommandV1",
       "width": "auto",
       "workflows": null,
       "xColumns": null,
       "yColumns": null
      }
     },
     "output_type": "display_data"
    }
   ],
   "source": [
    "from pyspark.sql.functions import col, avg as spark_avg, sum as spark_sum, count, min as spark_min\n",
    "\n",
    "base = \"/mnt/mygold/f1_star_schema_analytics\"\n",
    "kpi_circuit_time = (\n",
    "    spark.read.format(\"delta\").load(f\"{gold_path}/fact_race_results\")\n",
    "      .groupBy(\"circuit_ID\")\n",
    "      .agg(spark_avg(\"time\").alias(\"avg_finish_time\"))\n",
    "      .join(spark.read.format(\"delta\").load(f\"{gold_path}/dim_circuit\"), \"circuit_ID\")\n",
    ")\n",
    "kpi_circuit_time.write.format(\"delta\").mode(\"overwrite\").save(f\"{base}/kpi_circuit_avg_finish_time\")\n",
    "display(kpi_circuit_time)"
   ]
  },
  {
   "cell_type": "markdown",
   "metadata": {
    "application/vnd.databricks.v1+cell": {
     "cellMetadata": {},
     "inputWidgets": {},
     "nuid": "1a515947-0f22-4dae-9fa0-f0a270e09540",
     "showTitle": false,
     "tableResultSettingsMap": {},
     "title": ""
    }
   },
   "source": [
    "### 2.3 Season Avg point"
   ]
  },
  {
   "cell_type": "code",
   "execution_count": 0,
   "metadata": {
    "application/vnd.databricks.v1+cell": {
     "cellMetadata": {
      "byteLimit": 2048000,
      "rowLimit": 10000
     },
     "inputWidgets": {},
     "nuid": "bd90bbf9-f318-44e1-a87b-4f88874bf6de",
     "showTitle": false,
     "tableResultSettingsMap": {},
     "title": ""
    }
   },
   "outputs": [
    {
     "output_type": "display_data",
     "data": {
      "text/plain": [
       "Databricks visualization. Run in Databricks to view."
      ]
     },
     "metadata": {
      "application/vnd.databricks.v1.subcommand+json": {
       "baseErrorDetails": null,
       "bindings": {},
       "collapsed": false,
       "command": "%python\n__backend_agg_display_orig = display\n__backend_agg_dfs = []\ndef __backend_agg_display_new(df):\n    __backend_agg_df_modules = [\"pandas.core.frame\", \"databricks.koalas.frame\", \"pyspark.sql.dataframe\", \"pyspark.pandas.frame\", \"pyspark.sql.connect.dataframe\"]\n    if (type(df).__module__ in __backend_agg_df_modules and type(df).__name__ == 'DataFrame') or isinstance(df, list):\n        __backend_agg_dfs.append(df)\n\ndisplay = __backend_agg_display_new\n\ndef __backend_agg_user_code_fn():\n    import base64\n    exec(base64.standard_b64decode(\"ZnJvbSBweXNwYXJrLnNxbC5mdW5jdGlvbnMgaW1wb3J0IGNvbCwgYXZnIGFzIHNwYXJrX2F2Zywgc3VtIGFzIHNwYXJrX3N1bSwgY291bnQsIG1pbiBhcyBzcGFya19taW4KCmJhc2UgPSAiL21udC9teWdvbGQvZjFfc3Rhcl9zY2hlbWFfYW5hbHl0aWNzIgprcGlfc2Vhc29uX3B0cyA9ICgKICAgIHNwYXJrLnJlYWQuZm9ybWF0KCJkZWx0YSIpLmxvYWQoZiJ7Z29sZF9wYXRofS9mYWN0X3JhY2VfcmVzdWx0cyIpCiAgICAgIC5ncm91cEJ5KCJzZWFzb24iKQogICAgICAuYWdnKHNwYXJrX2F2ZygicG9pbnRzIikuYWxpYXMoImF2Z19wb2ludHMiKSkKKQprcGlfc2Vhc29uX3B0cy53cml0ZS5mb3JtYXQoImRlbHRhIikubW9kZSgib3ZlcndyaXRlIikuc2F2ZShmIntiYXNlfS9rcGlfc2Vhc29uX2F2Z19wb2ludHMiKQpkaXNwbGF5KGtwaV9zZWFzb25fcHRzKQ==\").decode())\n\ntry:\n    # run user code\n    __backend_agg_user_code_fn()\n\n    #reset display function\n    display = __backend_agg_display_orig\n\n    if len(__backend_agg_dfs) > 0:\n        # create a temp view\n        if type(__backend_agg_dfs[0]).__module__ == \"databricks.koalas.frame\":\n            # koalas dataframe\n            __backend_agg_dfs[0].to_spark().createOrReplaceTempView(\"DatabricksView2ab1422\")\n        elif type(__backend_agg_dfs[0]).__module__ == \"pandas.core.frame\" or isinstance(__backend_agg_dfs[0], list):\n            # pandas dataframe\n            spark.createDataFrame(__backend_agg_dfs[0]).createOrReplaceTempView(\"DatabricksView2ab1422\")\n        else:\n            __backend_agg_dfs[0].createOrReplaceTempView(\"DatabricksView2ab1422\")\n        #run backend agg\n        display(spark.sql(\"\"\"WITH q AS (select * from DatabricksView2ab1422) SELECT `season`,SUM(`avg_points`) `column_1ea95d90161`,`season` FROM q GROUP BY `season`\"\"\"))\n    else:\n        displayHTML(\"dataframe no longer exists. If you're using dataframe.display(), use display(dataframe) instead.\")\n\n\nfinally:\n    spark.sql(\"drop view if exists DatabricksView2ab1422\")\n    display = __backend_agg_display_orig\n    del __backend_agg_display_new\n    del __backend_agg_display_orig\n    del __backend_agg_dfs\n    del __backend_agg_user_code_fn\n\n",
       "commandTitle": "Visualization 1",
       "commandType": "auto",
       "commandVersion": 0,
       "commentThread": [],
       "commentsVisible": false,
       "contentSha256Hex": null,
       "customPlotOptions": {
        "redashChart": [
         {
          "key": "type",
          "value": "CHART"
         },
         {
          "key": "options",
          "value": {
           "alignYAxesAtZero": true,
           "coefficient": 1,
           "columnConfigurationMap": {
            "series": {
             "column": "season",
             "id": "column_1ea95d90163"
            },
            "x": {
             "column": "season",
             "id": "column_1ea95d90160"
            },
            "y": [
             {
              "column": "avg_points",
              "id": "column_1ea95d90161",
              "transform": "SUM"
             }
            ]
           },
           "dateTimeFormat": "YYYY-MM-DD HH:mm",
           "direction": {
            "type": "counterclockwise"
           },
           "error_y": {
            "type": "data",
            "visible": true
           },
           "globalSeriesType": "column",
           "isAggregationOn": true,
           "legend": {
            "traceorder": "normal"
           },
           "missingValuesAsZero": true,
           "numberFormat": "0,0.[00000]",
           "percentFormat": "0[.]00%",
           "series": {
            "error_y": {
             "type": "data",
             "visible": true
            },
            "stacking": null
           },
           "seriesOptions": {
            "column_1ea95d90161": {
             "name": "avg_points",
             "yAxis": 0
            }
           },
           "showDataLabels": false,
           "sizemode": "diameter",
           "sortX": true,
           "sortY": true,
           "swappedAxes": true,
           "textFormat": "",
           "useAggregationsUi": true,
           "valuesOptions": {},
           "version": 2,
           "xAxis": {
            "labels": {
             "enabled": true
            },
            "type": "-"
           },
           "yAxis": [
            {
             "type": "-"
            },
            {
             "opposite": true,
             "type": "-"
            }
           ]
          }
         }
        ]
       },
       "datasetPreviewNameToCmdIdMap": {},
       "diffDeletes": [],
       "diffInserts": [],
       "displayType": "redashChart",
       "error": null,
       "errorDetails": null,
       "errorSummary": null,
       "errorTraceType": null,
       "finishTime": 0,
       "globalVars": {},
       "guid": "",
       "height": "auto",
       "hideCommandCode": false,
       "hideCommandResult": false,
       "iPythonMetadata": null,
       "inputWidgets": {},
       "isLockedInExamMode": false,
       "latestUser": "a user",
       "latestUserId": null,
       "listResultMetadata": null,
       "metadata": {},
       "nuid": "ecd9c8ce-bc01-45df-8be6-9d18f4b6166d",
       "origId": 0,
       "parentHierarchy": [],
       "pivotAggregation": null,
       "pivotColumns": null,
       "position": 33.0,
       "resultDbfsErrorMessage": null,
       "resultDbfsStatus": "INLINED_IN_TREE",
       "results": null,
       "showCommandTitle": false,
       "startTime": 0,
       "state": "input",
       "streamStates": {},
       "subcommandOptions": {
        "queryPlan": {
         "groups": [
          {
           "column": "season",
           "type": "column"
          },
          {
           "column": "season",
           "type": "column"
          }
         ],
         "selects": [
          {
           "column": "season",
           "type": "column"
          },
          {
           "alias": "column_1ea95d90161",
           "args": [
            {
             "column": "avg_points",
             "type": "column"
            }
           ],
           "function": "SUM",
           "type": "function"
          },
          {
           "column": "season",
           "type": "column"
          }
         ]
        }
       },
       "submitTime": 0,
       "subtype": "tableResultSubCmd.visualization",
       "tableResultIndex": 0,
       "tableResultSettingsMap": {},
       "useConsistentColors": false,
       "version": "CommandV1",
       "width": "auto",
       "workflows": null,
       "xColumns": null,
       "yColumns": null
      }
     },
     "output_type": "display_data"
    },
    {
     "output_type": "display_data",
     "data": {
      "text/plain": [
       "Databricks visualization. Run in Databricks to view."
      ]
     },
     "metadata": {
      "application/vnd.databricks.v1.subcommand+json": {
       "baseErrorDetails": null,
       "bindings": {},
       "collapsed": false,
       "command": "%python\n__backend_agg_display_orig = display\n__backend_agg_dfs = []\ndef __backend_agg_display_new(df):\n    __backend_agg_df_modules = [\"pandas.core.frame\", \"databricks.koalas.frame\", \"pyspark.sql.dataframe\", \"pyspark.pandas.frame\", \"pyspark.sql.connect.dataframe\"]\n    if (type(df).__module__ in __backend_agg_df_modules and type(df).__name__ == 'DataFrame') or isinstance(df, list):\n        __backend_agg_dfs.append(df)\n\ndisplay = __backend_agg_display_new\n\ndef __backend_agg_user_code_fn():\n    import base64\n    exec(base64.standard_b64decode(\"ZnJvbSBweXNwYXJrLnNxbC5mdW5jdGlvbnMgaW1wb3J0IGNvbCwgYXZnIGFzIHNwYXJrX2F2Zywgc3VtIGFzIHNwYXJrX3N1bSwgY291bnQsIG1pbiBhcyBzcGFya19taW4KCmJhc2UgPSAiL21udC9teWdvbGQvZjFfc3Rhcl9zY2hlbWFfYW5hbHl0aWNzIgprcGlfc2Vhc29uX3B0cyA9ICgKICAgIHNwYXJrLnJlYWQuZm9ybWF0KCJkZWx0YSIpLmxvYWQoZiJ7Z29sZF9wYXRofS9mYWN0X3JhY2VfcmVzdWx0cyIpCiAgICAgIC5ncm91cEJ5KCJzZWFzb24iKQogICAgICAuYWdnKHNwYXJrX2F2ZygicG9pbnRzIikuYWxpYXMoImF2Z19wb2ludHMiKSkKKQprcGlfc2Vhc29uX3B0cy53cml0ZS5mb3JtYXQoImRlbHRhIikubW9kZSgib3ZlcndyaXRlIikuc2F2ZShmIntiYXNlfS9rcGlfc2Vhc29uX2F2Z19wb2ludHMiKQpkaXNwbGF5KGtwaV9zZWFzb25fcHRzKQ==\").decode())\n\ntry:\n    # run user code\n    __backend_agg_user_code_fn()\n\n    #reset display function\n    display = __backend_agg_display_orig\n\n    if len(__backend_agg_dfs) > 0:\n        # create a temp view\n        if type(__backend_agg_dfs[0]).__module__ == \"databricks.koalas.frame\":\n            # koalas dataframe\n            __backend_agg_dfs[0].to_spark().createOrReplaceTempView(\"DatabricksView810dd45\")\n        elif type(__backend_agg_dfs[0]).__module__ == \"pandas.core.frame\" or isinstance(__backend_agg_dfs[0], list):\n            # pandas dataframe\n            spark.createDataFrame(__backend_agg_dfs[0]).createOrReplaceTempView(\"DatabricksView810dd45\")\n        else:\n            __backend_agg_dfs[0].createOrReplaceTempView(\"DatabricksView810dd45\")\n        #run backend agg\n        display(spark.sql(\"\"\"WITH q AS (select * from DatabricksView810dd45) SELECT `season`,SUM(`avg_points`) `column_1ea95d90169` FROM q GROUP BY `season`\"\"\"))\n    else:\n        displayHTML(\"dataframe no longer exists. If you're using dataframe.display(), use display(dataframe) instead.\")\n\n\nfinally:\n    spark.sql(\"drop view if exists DatabricksView810dd45\")\n    display = __backend_agg_display_orig\n    del __backend_agg_display_new\n    del __backend_agg_display_orig\n    del __backend_agg_dfs\n    del __backend_agg_user_code_fn\n\n",
       "commandTitle": "Visualization 2",
       "commandType": "auto",
       "commandVersion": 0,
       "commentThread": [],
       "commentsVisible": false,
       "contentSha256Hex": null,
       "customPlotOptions": {
        "redashChart": [
         {
          "key": "type",
          "value": "CHART"
         },
         {
          "key": "options",
          "value": {
           "alignYAxesAtZero": true,
           "coefficient": 1,
           "columnConfigurationMap": {
            "x": {
             "column": "season",
             "id": "column_1ea95d90168"
            },
            "y": [
             {
              "column": "avg_points",
              "id": "column_1ea95d90169",
              "transform": "SUM"
             }
            ]
           },
           "dateTimeFormat": "YYYY-MM-DD HH:mm",
           "direction": {
            "type": "counterclockwise"
           },
           "error_y": {
            "type": "data",
            "visible": true
           },
           "globalSeriesType": "pie",
           "legend": {
            "traceorder": "normal"
           },
           "missingValuesAsZero": true,
           "numberFormat": "0,0.[00000]",
           "percentFormat": "0[.]00%",
           "series": {
            "error_y": {
             "type": "data",
             "visible": true
            },
            "stacking": null
           },
           "seriesOptions": {
            "column_1ea95d90169": {
             "name": "avg_points",
             "type": "pie",
             "yAxis": 0
            }
           },
           "showDataLabels": true,
           "sizemode": "diameter",
           "sortX": true,
           "sortY": true,
           "swappedAxes": false,
           "textFormat": "",
           "useAggregationsUi": true,
           "valuesOptions": {},
           "version": 2,
           "xAxis": {
            "labels": {
             "enabled": true
            },
            "type": "-"
           },
           "yAxis": [
            {
             "type": "-"
            },
            {
             "opposite": true,
             "type": "-"
            }
           ]
          }
         }
        ]
       },
       "datasetPreviewNameToCmdIdMap": {},
       "diffDeletes": [],
       "diffInserts": [],
       "displayType": "redashChart",
       "error": null,
       "errorDetails": null,
       "errorSummary": null,
       "errorTraceType": null,
       "finishTime": 0,
       "globalVars": {},
       "guid": "",
       "height": "auto",
       "hideCommandCode": false,
       "hideCommandResult": false,
       "iPythonMetadata": null,
       "inputWidgets": {},
       "isLockedInExamMode": false,
       "latestUser": "a user",
       "latestUserId": null,
       "listResultMetadata": null,
       "metadata": {},
       "nuid": "4c3ce2ff-d7df-4d7d-824a-b63473282ea5",
       "origId": 0,
       "parentHierarchy": [],
       "pivotAggregation": null,
       "pivotColumns": null,
       "position": 34.0,
       "resultDbfsErrorMessage": null,
       "resultDbfsStatus": "INLINED_IN_TREE",
       "results": null,
       "showCommandTitle": false,
       "startTime": 0,
       "state": "input",
       "streamStates": {},
       "subcommandOptions": {
        "queryPlan": {
         "groups": [
          {
           "column": "season",
           "type": "column"
          }
         ],
         "selects": [
          {
           "column": "season",
           "type": "column"
          },
          {
           "alias": "column_1ea95d90169",
           "args": [
            {
             "column": "avg_points",
             "type": "column"
            }
           ],
           "function": "SUM",
           "type": "function"
          }
         ]
        }
       },
       "submitTime": 0,
       "subtype": "tableResultSubCmd.visualization",
       "tableResultIndex": 0,
       "tableResultSettingsMap": {},
       "useConsistentColors": false,
       "version": "CommandV1",
       "width": "auto",
       "workflows": null,
       "xColumns": null,
       "yColumns": null
      }
     },
     "output_type": "display_data"
    }
   ],
   "source": [
    "from pyspark.sql.functions import col, avg as spark_avg, sum as spark_sum, count, min as spark_min\n",
    "\n",
    "base = \"/mnt/mygold/f1_star_schema_analytics\"\n",
    "kpi_season_pts = (\n",
    "    spark.read.format(\"delta\").load(f\"{gold_path}/fact_race_results\")\n",
    "      .groupBy(\"season\")\n",
    "      .agg(spark_avg(\"points\").alias(\"avg_points\"))\n",
    ")\n",
    "kpi_season_pts.write.format(\"delta\").mode(\"overwrite\").save(f\"{base}/kpi_season_avg_points\")\n",
    "display(kpi_season_pts)"
   ]
  },
  {
   "cell_type": "markdown",
   "metadata": {
    "application/vnd.databricks.v1+cell": {
     "cellMetadata": {},
     "inputWidgets": {},
     "nuid": "48fc003c-dd24-41c3-8528-c8eec6f10b1d",
     "showTitle": false,
     "tableResultSettingsMap": {},
     "title": ""
    }
   },
   "source": [
    "### 2.4  Number of Participations per Season"
   ]
  },
  {
   "cell_type": "code",
   "execution_count": 0,
   "metadata": {
    "application/vnd.databricks.v1+cell": {
     "cellMetadata": {
      "byteLimit": 2048000,
      "rowLimit": 10000
     },
     "inputWidgets": {},
     "nuid": "0395c5f8-5bf7-4940-a81b-50d38749be68",
     "showTitle": false,
     "tableResultSettingsMap": {},
     "title": ""
    }
   },
   "outputs": [
    {
     "output_type": "display_data",
     "data": {
      "text/plain": [
       "Databricks visualization. Run in Databricks to view."
      ]
     },
     "metadata": {
      "application/vnd.databricks.v1.subcommand+json": {
       "baseErrorDetails": null,
       "bindings": {},
       "collapsed": false,
       "command": "%python\n__backend_agg_display_orig = display\n__backend_agg_dfs = []\ndef __backend_agg_display_new(df):\n    __backend_agg_df_modules = [\"pandas.core.frame\", \"databricks.koalas.frame\", \"pyspark.sql.dataframe\", \"pyspark.pandas.frame\", \"pyspark.sql.connect.dataframe\"]\n    if (type(df).__module__ in __backend_agg_df_modules and type(df).__name__ == 'DataFrame') or isinstance(df, list):\n        __backend_agg_dfs.append(df)\n\ndisplay = __backend_agg_display_new\n\ndef __backend_agg_user_code_fn():\n    import base64\n    exec(base64.standard_b64decode(\"ZnJvbSBweXNwYXJrLnNxbC5mdW5jdGlvbnMgaW1wb3J0IGNvbCwgY291bnQsIHN1bSBhcyBzcGFya19zdW0KCmdvbGRfcGF0aCA9ICIvbW50L215Z29sZC9mMV9zdGFyX3NjaGVtYSIKYW5hbHl0aWNzX3BhdGggPSAiL21udC9teWdvbGQvZjFfc3Rhcl9zY2hlbWFfYW5hbHl0aWNzIgoKIyBMb2FkIGZhY3RfcmFjZV9yZXN1bHRzCmZhY3RfcmFjZV9yZXN1bHRzID0gc3BhcmsucmVhZC5mb3JtYXQoImRlbHRhIikubG9hZChmIntnb2xkX3BhdGh9L2ZhY3RfcmFjZV9yZXN1bHRzIikKCiMgS1BJOiBOdW1iZXIgb2YgV2lucyBhbmQgUGFydGljaXBhdGlvbnMgcGVyIFNlYXNvbgprcGlfc2Vhc29uX3dpbnNfcGFydGljaXBhdGlvbnMgPSAoCiAgICBmYWN0X3JhY2VfcmVzdWx0cwogICAgICAuZ3JvdXBCeSgic2Vhc29uIikKICAgICAgLmFnZygKICAgICAgICAgIGNvdW50KCIqIikuYWxpYXMoInRvdGFsX3BhcnRpY2lwYXRpb25zIiksCiAgICAgICAgICBzcGFya19zdW0oKGNvbCgicG9zaXRpb24iKSA9PSAxKS5jYXN0KCJpbnQiKSkuYWxpYXMoInRvdGFsX3dpbnMiKQogICAgICApCiAgICAgIC5vcmRlckJ5KCJzZWFzb24iKQopCgojIFNhdmUgdG8gR29sZCBMYXllcgprcGlfc2Vhc29uX3dpbnNfcGFydGljaXBhdGlvbnMud3JpdGUuZm9ybWF0KCJkZWx0YSIpIFwKICAgIC5tb2RlKCJvdmVyd3JpdGUiKSBcCiAgICAuc2F2ZShmInthbmFseXRpY3NfcGF0aH0va3BpX3NlYXNvbl93aW5zX3BhcnRpY2lwYXRpb25zIikKCiMgRGlzcGxheQpkaXNwbGF5KGtwaV9zZWFzb25fd2luc19wYXJ0aWNpcGF0aW9ucykK\").decode())\n\ntry:\n    # run user code\n    __backend_agg_user_code_fn()\n\n    #reset display function\n    display = __backend_agg_display_orig\n\n    if len(__backend_agg_dfs) > 0:\n        # create a temp view\n        if type(__backend_agg_dfs[0]).__module__ == \"databricks.koalas.frame\":\n            # koalas dataframe\n            __backend_agg_dfs[0].to_spark().createOrReplaceTempView(\"DatabricksView9cc6295\")\n        elif type(__backend_agg_dfs[0]).__module__ == \"pandas.core.frame\" or isinstance(__backend_agg_dfs[0], list):\n            # pandas dataframe\n            spark.createDataFrame(__backend_agg_dfs[0]).createOrReplaceTempView(\"DatabricksView9cc6295\")\n        else:\n            __backend_agg_dfs[0].createOrReplaceTempView(\"DatabricksView9cc6295\")\n        #run backend agg\n        display(spark.sql(\"\"\"WITH q AS (select * from DatabricksView9cc6295) SELECT `season`,SUM(`total_participations`) `column_babf93fd183`,`season` FROM q GROUP BY `season`\"\"\"))\n    else:\n        displayHTML(\"dataframe no longer exists. If you're using dataframe.display(), use display(dataframe) instead.\")\n\n\nfinally:\n    spark.sql(\"drop view if exists DatabricksView9cc6295\")\n    display = __backend_agg_display_orig\n    del __backend_agg_display_new\n    del __backend_agg_display_orig\n    del __backend_agg_dfs\n    del __backend_agg_user_code_fn\n\n",
       "commandTitle": "Visualization 1",
       "commandType": "auto",
       "commandVersion": 0,
       "commentThread": [],
       "commentsVisible": false,
       "contentSha256Hex": null,
       "customPlotOptions": {
        "redashChart": [
         {
          "key": "type",
          "value": "CHART"
         },
         {
          "key": "options",
          "value": {
           "alignYAxesAtZero": true,
           "coefficient": 1,
           "columnConfigurationMap": {
            "series": {
             "column": "season",
             "id": "column_babf93fd193"
            },
            "x": {
             "column": "season",
             "id": "column_babf93fd186"
            },
            "y": [
             {
              "column": "total_participations",
              "id": "column_babf93fd183",
              "transform": "SUM"
             }
            ]
           },
           "dateTimeFormat": "DD/MM/YYYY HH:mm",
           "direction": {
            "type": "counterclockwise"
           },
           "error_y": {
            "type": "data",
            "visible": true
           },
           "globalSeriesType": "column",
           "isAggregationOn": true,
           "legend": {
            "traceorder": "normal"
           },
           "missingValuesAsZero": true,
           "numberFormat": "0,0.[00000]",
           "percentFormat": "0[.]00%",
           "series": {
            "error_y": {
             "type": "data",
             "visible": true
            },
            "stacking": null
           },
           "seriesOptions": {
            "column_babf93fd183": {
             "type": "column"
            }
           },
           "showDataLabels": false,
           "sizemode": "diameter",
           "sortX": true,
           "sortY": true,
           "swappedAxes": false,
           "textFormat": "",
           "useAggregationsUi": true,
           "valuesOptions": {},
           "version": 2,
           "xAxis": {
            "labels": {
             "enabled": true
            },
            "type": "-"
           },
           "yAxis": [
            {
             "type": "-"
            },
            {
             "opposite": true,
             "type": "-"
            }
           ]
          }
         }
        ]
       },
       "datasetPreviewNameToCmdIdMap": {},
       "diffDeletes": [],
       "diffInserts": [],
       "displayType": "redashChart",
       "error": null,
       "errorDetails": null,
       "errorSummary": null,
       "errorTraceType": null,
       "finishTime": 0,
       "globalVars": {},
       "guid": "",
       "height": "auto",
       "hideCommandCode": false,
       "hideCommandResult": false,
       "iPythonMetadata": null,
       "inputWidgets": {},
       "isLockedInExamMode": false,
       "latestUser": "a user",
       "latestUserId": null,
       "listResultMetadata": null,
       "metadata": {},
       "nuid": "6dfc3d37-ae9d-4832-a7e9-990d1bad7586",
       "origId": 0,
       "parentHierarchy": [],
       "pivotAggregation": null,
       "pivotColumns": null,
       "position": 33.25,
       "resultDbfsErrorMessage": null,
       "resultDbfsStatus": "INLINED_IN_TREE",
       "results": null,
       "showCommandTitle": false,
       "startTime": 0,
       "state": "input",
       "streamStates": {},
       "subcommandOptions": {
        "queryPlan": {
         "groups": [
          {
           "column": "season",
           "type": "column"
          },
          {
           "column": "season",
           "type": "column"
          }
         ],
         "selects": [
          {
           "column": "season",
           "type": "column"
          },
          {
           "alias": "column_babf93fd183",
           "args": [
            {
             "column": "total_participations",
             "type": "column"
            }
           ],
           "function": "SUM",
           "type": "function"
          },
          {
           "column": "season",
           "type": "column"
          }
         ]
        }
       },
       "submitTime": 0,
       "subtype": "tableResultSubCmd.visualization",
       "tableResultIndex": 0,
       "tableResultSettingsMap": {},
       "useConsistentColors": false,
       "version": "CommandV1",
       "width": "auto",
       "workflows": null,
       "xColumns": null,
       "yColumns": null
      }
     },
     "output_type": "display_data"
    }
   ],
   "source": [
    "from pyspark.sql.functions import col, count, sum as spark_sum\n",
    "\n",
    "gold_path = \"/mnt/mygold/f1_star_schema\"\n",
    "analytics_path = \"/mnt/mygold/f1_star_schema_analytics\"\n",
    "\n",
    "# Load fact_race_results\n",
    "fact_race_results = spark.read.format(\"delta\").load(f\"{gold_path}/fact_race_results\")\n",
    "\n",
    "# KPI: Number of Participations per Season\n",
    "kpi_season_wins_participations = (\n",
    "    fact_race_results\n",
    "      .groupBy(\"season\")\n",
    "      .agg(\n",
    "          count(\"*\").alias(\"total_participations\"),\n",
    "          spark_sum((col(\"position\") == 1).cast(\"int\")).alias(\"total_wins\")\n",
    "      )\n",
    "      .orderBy(\"season\")\n",
    ")\n",
    "\n",
    "# Save to Gold Layer\n",
    "kpi_season_wins_participations.write.format(\"delta\") \\\n",
    "    .mode(\"overwrite\") \\\n",
    "    .save(f\"{analytics_path}/kpi_season_wins_participations\")\n",
    "\n",
    "# Display\n",
    "display(kpi_season_wins_participations)\n"
   ]
  },
  {
   "cell_type": "markdown",
   "metadata": {
    "application/vnd.databricks.v1+cell": {
     "cellMetadata": {},
     "inputWidgets": {},
     "nuid": "783975fc-b4cb-4ded-b13f-5fd7a9bba177",
     "showTitle": false,
     "tableResultSettingsMap": {},
     "title": ""
    }
   },
   "source": []
  },
  {
   "cell_type": "markdown",
   "metadata": {
    "application/vnd.databricks.v1+cell": {
     "cellMetadata": {},
     "inputWidgets": {},
     "nuid": "31a12adc-6160-4429-a882-923a1dc16ab5",
     "showTitle": false,
     "tableResultSettingsMap": {},
     "title": ""
    }
   },
   "source": [
    "### 2.5 Number of Wins per Constructor"
   ]
  },
  {
   "cell_type": "code",
   "execution_count": 0,
   "metadata": {
    "application/vnd.databricks.v1+cell": {
     "cellMetadata": {
      "byteLimit": 2048000,
      "rowLimit": 10000
     },
     "inputWidgets": {},
     "nuid": "cfbf9533-a5ed-407c-bd14-950056bac0e4",
     "showTitle": false,
     "tableResultSettingsMap": {},
     "title": ""
    }
   },
   "outputs": [
    {
     "output_type": "display_data",
     "data": {
      "text/plain": [
       "Databricks visualization. Run in Databricks to view."
      ]
     },
     "metadata": {
      "application/vnd.databricks.v1.subcommand+json": {
       "baseErrorDetails": null,
       "bindings": {},
       "collapsed": false,
       "command": "%python\n__backend_agg_display_orig = display\n__backend_agg_dfs = []\ndef __backend_agg_display_new(df):\n    __backend_agg_df_modules = [\"pandas.core.frame\", \"databricks.koalas.frame\", \"pyspark.sql.dataframe\", \"pyspark.pandas.frame\", \"pyspark.sql.connect.dataframe\"]\n    if (type(df).__module__ in __backend_agg_df_modules and type(df).__name__ == 'DataFrame') or isinstance(df, list):\n        __backend_agg_dfs.append(df)\n\ndisplay = __backend_agg_display_new\n\ndef __backend_agg_user_code_fn():\n    import base64\n    exec(base64.standard_b64decode(\"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\").decode())\n\ntry:\n    # run user code\n    __backend_agg_user_code_fn()\n\n    #reset display function\n    display = __backend_agg_display_orig\n\n    if len(__backend_agg_dfs) > 0:\n        # create a temp view\n        if type(__backend_agg_dfs[0]).__module__ == \"databricks.koalas.frame\":\n            # koalas dataframe\n            __backend_agg_dfs[0].to_spark().createOrReplaceTempView(\"DatabricksView7c406ec\")\n        elif type(__backend_agg_dfs[0]).__module__ == \"pandas.core.frame\" or isinstance(__backend_agg_dfs[0], list):\n            # pandas dataframe\n            spark.createDataFrame(__backend_agg_dfs[0]).createOrReplaceTempView(\"DatabricksView7c406ec\")\n        else:\n            __backend_agg_dfs[0].createOrReplaceTempView(\"DatabricksView7c406ec\")\n        #run backend agg\n        display(spark.sql(\"\"\"WITH q AS (select * from DatabricksView7c406ec) SELECT `constructor_name`,SUM(`total_wins`) `column_babf93fd204` FROM q GROUP BY `constructor_name`\"\"\"))\n    else:\n        displayHTML(\"dataframe no longer exists. If you're using dataframe.display(), use display(dataframe) instead.\")\n\n\nfinally:\n    spark.sql(\"drop view if exists DatabricksView7c406ec\")\n    display = __backend_agg_display_orig\n    del __backend_agg_display_new\n    del __backend_agg_display_orig\n    del __backend_agg_dfs\n    del __backend_agg_user_code_fn\n\n",
       "commandTitle": "Visualization 1",
       "commandType": "auto",
       "commandVersion": 0,
       "commentThread": [],
       "commentsVisible": false,
       "contentSha256Hex": null,
       "customPlotOptions": {
        "redashChart": [
         {
          "key": "type",
          "value": "CHART"
         },
         {
          "key": "options",
          "value": {
           "alignYAxesAtZero": true,
           "coefficient": 1,
           "columnConfigurationMap": {
            "x": {
             "column": "constructor_name",
             "id": "column_babf93fd203"
            },
            "y": [
             {
              "column": "total_wins",
              "id": "column_babf93fd204",
              "transform": "SUM"
             }
            ]
           },
           "dateTimeFormat": "DD/MM/YYYY HH:mm",
           "direction": {
            "type": "counterclockwise"
           },
           "error_y": {
            "type": "data",
            "visible": true
           },
           "globalSeriesType": "pie",
           "isAggregationOn": true,
           "legend": {
            "traceorder": "normal"
           },
           "missingValuesAsZero": true,
           "numberFormat": "0,0.[00000]",
           "percentFormat": "0[.]00%",
           "series": {
            "error_y": {
             "type": "data",
             "visible": true
            },
            "stacking": null
           },
           "seriesOptions": {
            "column_babf93fd204": {
             "name": "total_wins",
             "type": "pie",
             "yAxis": 0
            }
           },
           "showDataLabels": true,
           "sizemode": "diameter",
           "sortX": true,
           "sortY": true,
           "swappedAxes": false,
           "textFormat": "",
           "useAggregationsUi": true,
           "valuesOptions": {},
           "version": 2,
           "xAxis": {
            "labels": {
             "enabled": true
            },
            "type": "-"
           },
           "yAxis": [
            {
             "type": "-"
            },
            {
             "opposite": true,
             "type": "-"
            }
           ]
          }
         }
        ]
       },
       "datasetPreviewNameToCmdIdMap": {},
       "diffDeletes": [],
       "diffInserts": [],
       "displayType": "redashChart",
       "error": null,
       "errorDetails": null,
       "errorSummary": null,
       "errorTraceType": null,
       "finishTime": 0,
       "globalVars": {},
       "guid": "",
       "height": "auto",
       "hideCommandCode": false,
       "hideCommandResult": false,
       "iPythonMetadata": null,
       "inputWidgets": {},
       "isLockedInExamMode": false,
       "latestUser": "a user",
       "latestUserId": null,
       "listResultMetadata": null,
       "metadata": {},
       "nuid": "3f59cabb-694e-43e9-bc59-6638a0d773b8",
       "origId": 0,
       "parentHierarchy": [],
       "pivotAggregation": null,
       "pivotColumns": null,
       "position": 34.25,
       "resultDbfsErrorMessage": null,
       "resultDbfsStatus": "INLINED_IN_TREE",
       "results": null,
       "showCommandTitle": false,
       "startTime": 0,
       "state": "input",
       "streamStates": {},
       "subcommandOptions": {
        "queryPlan": {
         "groups": [
          {
           "column": "constructor_name",
           "type": "column"
          }
         ],
         "selects": [
          {
           "column": "constructor_name",
           "type": "column"
          },
          {
           "alias": "column_babf93fd204",
           "args": [
            {
             "column": "total_wins",
             "type": "column"
            }
           ],
           "function": "SUM",
           "type": "function"
          }
         ]
        }
       },
       "submitTime": 0,
       "subtype": "tableResultSubCmd.visualization",
       "tableResultIndex": 0,
       "tableResultSettingsMap": {},
       "useConsistentColors": false,
       "version": "CommandV1",
       "width": "auto",
       "workflows": null,
       "xColumns": null,
       "yColumns": null
      }
     },
     "output_type": "display_data"
    }
   ],
   "source": [
    "from pyspark.sql.functions import col, sum as spark_sum\n",
    "\n",
    "gold_path = \"/mnt/mygold/f1_star_schema\"\n",
    "analytics_path = \"/mnt/mygold/f1_star_schema_analytics\"\n",
    "\n",
    "# Load fact_race_results\n",
    "fact_race_results = spark.read.format(\"delta\").load(f\"{gold_path}/fact_race_results\")\n",
    "\n",
    "# KPI: Number of Wins per Constructor\n",
    "kpi_constructor_wins = (\n",
    "    fact_race_results\n",
    "      .groupBy(\"constructor\")\n",
    "      .agg(\n",
    "          spark_sum((col(\"position\") == 1).cast(\"int\")).alias(\"total_wins\")\n",
    "      )\n",
    "      .orderBy(col(\"total_wins\").desc())\n",
    ")\n",
    "\n",
    "# Save to Gold Layer\n",
    "kpi_constructor_wins.write.format(\"delta\") \\\n",
    "    .mode(\"overwrite\") \\\n",
    "    .save(f\"{analytics_path}/kpi_constructor_total_wins\")\n",
    "\n",
    "# Display\n",
    "from pyspark.sql.functions import col, sum as spark_sum\n",
    "\n",
    "gold_path = \"/mnt/mygold/f1_star_schema\"\n",
    "analytics_path = \"/mnt/mygold/f1_star_schema_analytics\"\n",
    "\n",
    "# Load fact and dim tables\n",
    "fact_df = spark.read.format(\"delta\").load(f\"{gold_path}/fact_race_results\")\n",
    "dim_constructor = spark.read.format(\"delta\").load(f\"{gold_path}/dim_constructor\")\n",
    "\n",
    "# Join fact with constructor to get constructor_name\n",
    "fact_with_constructor = (\n",
    "    fact_df.join(dim_constructor, fact_df[\"constructor\"] == dim_constructor[\"constructor_name\"], \"left\")\n",
    ")\n",
    "\n",
    "# KPI: Wins per Constructor\n",
    "kpi_constructor_wins = (\n",
    "    fact_with_constructor\n",
    "      .groupBy(\"constructor_name\")\n",
    "      .agg(spark_sum((col(\"position\") == 1).cast(\"int\")).alias(\"total_wins\"))\n",
    "      .orderBy(col(\"total_wins\").desc())\n",
    ")\n",
    "\n",
    "# Save KPI\n",
    "kpi_constructor_wins.write.format(\"delta\") \\\n",
    "    .mode(\"overwrite\") \\\n",
    "    .option(\"mergeSchema\", \"true\").save(f\"{analytics_path}/kpi_constructor_total_wins\")\n",
    "\n",
    "display(kpi_constructor_wins)\n"
   ]
  },
  {
   "cell_type": "markdown",
   "metadata": {
    "application/vnd.databricks.v1+cell": {
     "cellMetadata": {},
     "inputWidgets": {},
     "nuid": "bcc6c931-6e3c-49d3-aee3-6e42e1acbc76",
     "showTitle": false,
     "tableResultSettingsMap": {},
     "title": ""
    }
   },
   "source": [
    "### 2.6 Number of races per country"
   ]
  },
  {
   "cell_type": "code",
   "execution_count": 0,
   "metadata": {
    "application/vnd.databricks.v1+cell": {
     "cellMetadata": {
      "byteLimit": 2048000,
      "rowLimit": 10000
     },
     "inputWidgets": {},
     "nuid": "6286db2e-d192-461f-baec-98a5b8068ec6",
     "showTitle": false,
     "tableResultSettingsMap": {},
     "title": ""
    }
   },
   "outputs": [
    {
     "output_type": "display_data",
     "data": {
      "text/plain": [
       "Databricks visualization. Run in Databricks to view."
      ]
     },
     "metadata": {
      "application/vnd.databricks.v1.subcommand+json": {
       "baseErrorDetails": null,
       "bindings": {},
       "collapsed": false,
       "command": "from pyspark.sql.functions import count\n\n# Set gold and analytics path\ngold_path = \"/mnt/mygold/f1_star_schema\"\nbase = \"/mnt/mygold/f1_star_schema_analytics\"\n\n# Read necessary tables\ndf_fact_race_results = spark.read.format(\"delta\").load(f\"{gold_path}/fact_race_results\")\ndf_dim_circuit = spark.read.format(\"delta\").load(f\"{gold_path}/dim_circuit\")\n\n# Join fact and circuit to get country info\nkpi_races_per_country = (\n    df_fact_race_results\n    .join(df_dim_circuit, on=\"circuit_ID\", how=\"inner\")\n    .groupBy(\"country\")\n    .agg(count(\"race_name\").alias(\"number_of_races\"))\n    .orderBy(col(\"number_of_races\").desc())\n)\n\n# Save in Gold Analytics Layer\nkpi_races_per_country.write.format(\"delta\").mode(\"overwrite\").save(f\"{base}/kpi_races_per_country\")\n\n# Display for visualization\ndisplay(kpi_races_per_country)\n",
       "commandTitle": "Visualization 1",
       "commandType": "auto",
       "commandVersion": 0,
       "commentThread": [],
       "commentsVisible": false,
       "contentSha256Hex": null,
       "customPlotOptions": {
        "redashChart": [
         {
          "key": "type",
          "value": "CHOROPLETH"
         },
         {
          "key": "options",
          "value": {
           "clusteringMode": "e",
           "colors": {
            "background": "#ffffff",
            "borders": "#ffffff",
            "max": "#981717",
            "min": "#799CFF",
            "noValue": "#dddddd"
           },
           "keyColumn": "country",
           "legend": {
            "alignText": "right",
            "position": "bottom-left",
            "visible": true
           },
           "mapType": "countries",
           "noValuePlaceholder": "N/A",
           "popup": {
            "enabled": true,
            "template": "Region: <b>{{ @@name }}</b>\n<br>\nValue: <b>{{ @@value }}</b>"
           },
           "steps": 5,
           "targetField": "name_long",
           "tooltip": {
            "enabled": true,
            "template": "<b>{{ @@name }}</b>: {{ @@value }}"
           },
           "valueColumn": "number_of_races",
           "valueFormat": "0,0.00"
          }
         }
        ]
       },
       "datasetPreviewNameToCmdIdMap": {},
       "diffDeletes": [],
       "diffInserts": [],
       "displayType": "redashChart",
       "error": null,
       "errorDetails": null,
       "errorSummary": null,
       "errorTraceType": null,
       "finishTime": 0,
       "globalVars": {},
       "guid": "",
       "height": "auto",
       "hideCommandCode": false,
       "hideCommandResult": false,
       "iPythonMetadata": null,
       "inputWidgets": {},
       "isLockedInExamMode": false,
       "latestUser": "a user",
       "latestUserId": null,
       "listResultMetadata": null,
       "metadata": {},
       "nuid": "17530d35-5c84-4583-9fd8-5f3a8d610dba",
       "origId": 0,
       "parentHierarchy": [],
       "pivotAggregation": null,
       "pivotColumns": null,
       "position": 35.25,
       "resultDbfsErrorMessage": null,
       "resultDbfsStatus": "INLINED_IN_TREE",
       "results": null,
       "showCommandTitle": false,
       "startTime": 0,
       "state": "input",
       "streamStates": {},
       "subcommandOptions": {},
       "submitTime": 0,
       "subtype": "tableResultSubCmd.visualization",
       "tableResultIndex": 0,
       "tableResultSettingsMap": {},
       "useConsistentColors": false,
       "version": "CommandV1",
       "width": "auto",
       "workflows": null,
       "xColumns": null,
       "yColumns": null
      }
     },
     "output_type": "display_data"
    }
   ],
   "source": [
    "from pyspark.sql.functions import count\n",
    "\n",
    "# Set gold and analytics path\n",
    "gold_path = \"/mnt/mygold/f1_star_schema\"\n",
    "base = \"/mnt/mygold/f1_star_schema_analytics\"\n",
    "\n",
    "# Read necessary tables\n",
    "df_fact_race_results = spark.read.format(\"delta\").load(f\"{gold_path}/fact_race_results\")\n",
    "df_dim_circuit = spark.read.format(\"delta\").load(f\"{gold_path}/dim_circuit\")\n",
    "\n",
    "# Join fact and circuit to get country info\n",
    "kpi_races_per_country = (\n",
    "    df_fact_race_results\n",
    "    .join(df_dim_circuit, on=\"circuit_ID\", how=\"inner\")\n",
    "    .groupBy(\"country\")\n",
    "    .agg(count(\"race_name\").alias(\"number_of_races\"))\n",
    "    .orderBy(col(\"number_of_races\").desc())\n",
    ")\n",
    "\n",
    "# Save in Gold Analytics Layer\n",
    "kpi_races_per_country.write.format(\"delta\").mode(\"overwrite\").save(f\"{base}/kpi_races_per_country\")\n",
    "\n",
    "# Display for visualization\n",
    "display(kpi_races_per_country)\n"
   ]
  }
 ],
 "metadata": {
  "application/vnd.databricks.v1+notebook": {
   "computePreferences": null,
   "dashboards": [],
   "environmentMetadata": {
    "base_environment": "",
    "environment_version": "2"
   },
   "inputWidgetPreferences": null,
   "language": "python",
   "notebookMetadata": {
    "pythonIndentUnit": 4
   },
   "notebookName": "Formula_one_Project",
   "widgets": {}
  },
  "language_info": {
   "name": "python"
  }
 },
 "nbformat": 4,
 "nbformat_minor": 0
}
